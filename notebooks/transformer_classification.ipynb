{
  "cells": [
    {
      "cell_type": "markdown",
      "metadata": {
        "id": "4xzoMOJvRssS",
        "pycharm": {
          "name": "#%%\n"
        }
      },
      "source": [
        "[![Open In Colab](https://colab.research.google.com/assets/colab-badge.svg)](https://colab.research.google.com/github/georgianpartners/Multimodal-Toolkit/blob/master/notebooks/text_w_tabular_classification.ipynb)"
      ]
    },
    {
      "cell_type": "code",
      "source": [
        "from google.colab import drive\n",
        "drive.mount('/content/drive')"
      ],
      "metadata": {
        "colab": {
          "base_uri": "https://localhost:8080/"
        },
        "id": "w-ucEGwaNyax",
        "outputId": "579e8bd3-b1e3-4089-d315-5a761b564a01"
      },
      "execution_count": 1,
      "outputs": [
        {
          "output_type": "stream",
          "name": "stdout",
          "text": [
            "Mounted at /content/drive\n"
          ]
        }
      ]
    },
    {
      "cell_type": "markdown",
      "metadata": {
        "id": "QZR8kqmfRssU"
      },
      "source": [
        "# Training a BertWithTabular Model for Clothing Review Recommendation Prediction"
      ]
    },
    {
      "cell_type": "markdown",
      "metadata": {
        "id": "jixkQU9wRssV"
      },
      "source": [
        "This guide follows closely with the [example](https://colab.research.google.com/github/huggingface/blog/blob/master/notebooks/trainer/01_text_classification.ipynb#scrollTo=bwl3I_VGAZXb) from HuggingFace for text classificaion on the GLUE dataset."
      ]
    },
    {
      "cell_type": "markdown",
      "metadata": {
        "collapsed": true,
        "id": "lV2Kv5J7RssX"
      },
      "source": [
        "Install `multimodal-transformers`, `kaggle`  so we can get the dataset."
      ]
    },
    {
      "cell_type": "code",
      "execution_count": 2,
      "metadata": {
        "colab": {
          "base_uri": "https://localhost:8080/",
          "height": 1000
        },
        "id": "ynd8CTLBRssZ",
        "outputId": "8bddf2b8-5291-497e-e2d9-b649e29993a4"
      },
      "outputs": [
        {
          "output_type": "stream",
          "name": "stdout",
          "text": [
            "Collecting multimodal-transformers\n",
            "  Downloading multimodal_transformers-0.2a0-py3-none-any.whl (22 kB)\n",
            "Collecting transformers>=4.26.1 (from multimodal-transformers)\n",
            "  Downloading transformers-4.31.0-py3-none-any.whl (7.4 MB)\n",
            "\u001b[2K     \u001b[90m━━━━━━━━━━━━━━━━━━━━━━━━━━━━━━━━━━━━━━━━\u001b[0m \u001b[32m7.4/7.4 MB\u001b[0m \u001b[31m66.8 MB/s\u001b[0m eta \u001b[36m0:00:00\u001b[0m\n",
            "\u001b[?25hRequirement already satisfied: torch>=1.13.1 in /usr/local/lib/python3.10/dist-packages (from multimodal-transformers) (2.0.1+cu118)\n",
            "Collecting sacremoses~=0.0.53 (from multimodal-transformers)\n",
            "  Downloading sacremoses-0.0.53.tar.gz (880 kB)\n",
            "\u001b[2K     \u001b[90m━━━━━━━━━━━━━━━━━━━━━━━━━━━━━━━━━━━━━━\u001b[0m \u001b[32m880.6/880.6 kB\u001b[0m \u001b[31m69.2 MB/s\u001b[0m eta \u001b[36m0:00:00\u001b[0m\n",
            "\u001b[?25h  Preparing metadata (setup.py) ... \u001b[?25l\u001b[?25hdone\n",
            "Collecting networkx~=2.6.3 (from multimodal-transformers)\n",
            "  Downloading networkx-2.6.3-py3-none-any.whl (1.9 MB)\n",
            "\u001b[2K     \u001b[90m━━━━━━━━━━━━━━━━━━━━━━━━━━━━━━━━━━━━━━━━\u001b[0m \u001b[32m1.9/1.9 MB\u001b[0m \u001b[31m18.0 MB/s\u001b[0m eta \u001b[36m0:00:00\u001b[0m\n",
            "\u001b[?25hCollecting scikit-learn~=1.0.2 (from multimodal-transformers)\n",
            "  Downloading scikit_learn-1.0.2-cp310-cp310-manylinux_2_17_x86_64.manylinux2014_x86_64.whl (26.5 MB)\n",
            "\u001b[2K     \u001b[90m━━━━━━━━━━━━━━━━━━━━━━━━━━━━━━━━━━━━━━━━\u001b[0m \u001b[32m26.5/26.5 MB\u001b[0m \u001b[31m69.1 MB/s\u001b[0m eta \u001b[36m0:00:00\u001b[0m\n",
            "\u001b[?25hCollecting scipy~=1.7.3 (from multimodal-transformers)\n",
            "  Downloading scipy-1.7.3-cp310-cp310-manylinux_2_17_x86_64.manylinux2014_x86_64.whl (39.9 MB)\n",
            "\u001b[2K     \u001b[90m━━━━━━━━━━━━━━━━━━━━━━━━━━━━━━━━━━━━━━━━\u001b[0m \u001b[32m39.9/39.9 MB\u001b[0m \u001b[31m43.6 MB/s\u001b[0m eta \u001b[36m0:00:00\u001b[0m\n",
            "\u001b[?25hCollecting pandas~=1.3.5 (from multimodal-transformers)\n",
            "  Downloading pandas-1.3.5-cp310-cp310-manylinux_2_17_x86_64.manylinux2014_x86_64.whl (11.5 MB)\n",
            "\u001b[2K     \u001b[90m━━━━━━━━━━━━━━━━━━━━━━━━━━━━━━━━━━━━━━━━\u001b[0m \u001b[32m11.5/11.5 MB\u001b[0m \u001b[31m93.8 MB/s\u001b[0m eta \u001b[36m0:00:00\u001b[0m\n",
            "\u001b[?25hCollecting numpy~=1.21.6 (from multimodal-transformers)\n",
            "  Downloading numpy-1.21.6-cp310-cp310-manylinux_2_17_x86_64.manylinux2014_x86_64.whl (15.9 MB)\n",
            "\u001b[2K     \u001b[90m━━━━━━━━━━━━━━━━━━━━━━━━━━━━━━━━━━━━━━━\u001b[0m \u001b[32m15.9/15.9 MB\u001b[0m \u001b[31m104.9 MB/s\u001b[0m eta \u001b[36m0:00:00\u001b[0m\n",
            "\u001b[?25hCollecting tqdm~=4.64.1 (from multimodal-transformers)\n",
            "  Downloading tqdm-4.64.1-py2.py3-none-any.whl (78 kB)\n",
            "\u001b[2K     \u001b[90m━━━━━━━━━━━━━━━━━━━━━━━━━━━━━━━━━━━━━━━━\u001b[0m \u001b[32m78.5/78.5 kB\u001b[0m \u001b[31m8.0 MB/s\u001b[0m eta \u001b[36m0:00:00\u001b[0m\n",
            "\u001b[?25hCollecting pytest~=7.2.2 (from multimodal-transformers)\n",
            "  Downloading pytest-7.2.2-py3-none-any.whl (317 kB)\n",
            "\u001b[2K     \u001b[90m━━━━━━━━━━━━━━━━━━━━━━━━━━━━━━━━━━━━━━\u001b[0m \u001b[32m317.2/317.2 kB\u001b[0m \u001b[31m30.8 MB/s\u001b[0m eta \u001b[36m0:00:00\u001b[0m\n",
            "\u001b[?25hRequirement already satisfied: python-dateutil>=2.7.3 in /usr/local/lib/python3.10/dist-packages (from pandas~=1.3.5->multimodal-transformers) (2.8.2)\n",
            "Requirement already satisfied: pytz>=2017.3 in /usr/local/lib/python3.10/dist-packages (from pandas~=1.3.5->multimodal-transformers) (2023.3)\n",
            "Requirement already satisfied: attrs>=19.2.0 in /usr/local/lib/python3.10/dist-packages (from pytest~=7.2.2->multimodal-transformers) (23.1.0)\n",
            "Requirement already satisfied: iniconfig in /usr/local/lib/python3.10/dist-packages (from pytest~=7.2.2->multimodal-transformers) (2.0.0)\n",
            "Requirement already satisfied: packaging in /usr/local/lib/python3.10/dist-packages (from pytest~=7.2.2->multimodal-transformers) (23.1)\n",
            "Requirement already satisfied: pluggy<2.0,>=0.12 in /usr/local/lib/python3.10/dist-packages (from pytest~=7.2.2->multimodal-transformers) (1.2.0)\n",
            "Requirement already satisfied: exceptiongroup>=1.0.0rc8 in /usr/local/lib/python3.10/dist-packages (from pytest~=7.2.2->multimodal-transformers) (1.1.3)\n",
            "Requirement already satisfied: tomli>=1.0.0 in /usr/local/lib/python3.10/dist-packages (from pytest~=7.2.2->multimodal-transformers) (2.0.1)\n",
            "Requirement already satisfied: regex in /usr/local/lib/python3.10/dist-packages (from sacremoses~=0.0.53->multimodal-transformers) (2023.6.3)\n",
            "Requirement already satisfied: six in /usr/local/lib/python3.10/dist-packages (from sacremoses~=0.0.53->multimodal-transformers) (1.16.0)\n",
            "Requirement already satisfied: click in /usr/local/lib/python3.10/dist-packages (from sacremoses~=0.0.53->multimodal-transformers) (8.1.6)\n",
            "Requirement already satisfied: joblib in /usr/local/lib/python3.10/dist-packages (from sacremoses~=0.0.53->multimodal-transformers) (1.3.2)\n",
            "Requirement already satisfied: threadpoolctl>=2.0.0 in /usr/local/lib/python3.10/dist-packages (from scikit-learn~=1.0.2->multimodal-transformers) (3.2.0)\n",
            "Requirement already satisfied: filelock in /usr/local/lib/python3.10/dist-packages (from torch>=1.13.1->multimodal-transformers) (3.12.2)\n",
            "Requirement already satisfied: typing-extensions in /usr/local/lib/python3.10/dist-packages (from torch>=1.13.1->multimodal-transformers) (4.7.1)\n",
            "Requirement already satisfied: sympy in /usr/local/lib/python3.10/dist-packages (from torch>=1.13.1->multimodal-transformers) (1.12)\n",
            "Requirement already satisfied: jinja2 in /usr/local/lib/python3.10/dist-packages (from torch>=1.13.1->multimodal-transformers) (3.1.2)\n",
            "Requirement already satisfied: triton==2.0.0 in /usr/local/lib/python3.10/dist-packages (from torch>=1.13.1->multimodal-transformers) (2.0.0)\n",
            "Requirement already satisfied: cmake in /usr/local/lib/python3.10/dist-packages (from triton==2.0.0->torch>=1.13.1->multimodal-transformers) (3.27.2)\n",
            "Requirement already satisfied: lit in /usr/local/lib/python3.10/dist-packages (from triton==2.0.0->torch>=1.13.1->multimodal-transformers) (16.0.6)\n",
            "Collecting huggingface-hub<1.0,>=0.14.1 (from transformers>=4.26.1->multimodal-transformers)\n",
            "  Downloading huggingface_hub-0.16.4-py3-none-any.whl (268 kB)\n",
            "\u001b[2K     \u001b[90m━━━━━━━━━━━━━━━━━━━━━━━━━━━━━━━━━━━━━━\u001b[0m \u001b[32m268.8/268.8 kB\u001b[0m \u001b[31m30.8 MB/s\u001b[0m eta \u001b[36m0:00:00\u001b[0m\n",
            "\u001b[?25hRequirement already satisfied: pyyaml>=5.1 in /usr/local/lib/python3.10/dist-packages (from transformers>=4.26.1->multimodal-transformers) (6.0.1)\n",
            "Requirement already satisfied: requests in /usr/local/lib/python3.10/dist-packages (from transformers>=4.26.1->multimodal-transformers) (2.31.0)\n",
            "Collecting tokenizers!=0.11.3,<0.14,>=0.11.1 (from transformers>=4.26.1->multimodal-transformers)\n",
            "  Downloading tokenizers-0.13.3-cp310-cp310-manylinux_2_17_x86_64.manylinux2014_x86_64.whl (7.8 MB)\n",
            "\u001b[2K     \u001b[90m━━━━━━━━━━━━━━━━━━━━━━━━━━━━━━━━━━━━━━━━\u001b[0m \u001b[32m7.8/7.8 MB\u001b[0m \u001b[31m107.0 MB/s\u001b[0m eta \u001b[36m0:00:00\u001b[0m\n",
            "\u001b[?25hCollecting safetensors>=0.3.1 (from transformers>=4.26.1->multimodal-transformers)\n",
            "  Downloading safetensors-0.3.2-cp310-cp310-manylinux_2_17_x86_64.manylinux2014_x86_64.whl (1.3 MB)\n",
            "\u001b[2K     \u001b[90m━━━━━━━━━━━━━━━━━━━━━━━━━━━━━━━━━━━━━━━━\u001b[0m \u001b[32m1.3/1.3 MB\u001b[0m \u001b[31m75.9 MB/s\u001b[0m eta \u001b[36m0:00:00\u001b[0m\n",
            "\u001b[?25hRequirement already satisfied: fsspec in /usr/local/lib/python3.10/dist-packages (from huggingface-hub<1.0,>=0.14.1->transformers>=4.26.1->multimodal-transformers) (2023.6.0)\n",
            "Requirement already satisfied: MarkupSafe>=2.0 in /usr/local/lib/python3.10/dist-packages (from jinja2->torch>=1.13.1->multimodal-transformers) (2.1.3)\n",
            "Requirement already satisfied: charset-normalizer<4,>=2 in /usr/local/lib/python3.10/dist-packages (from requests->transformers>=4.26.1->multimodal-transformers) (3.2.0)\n",
            "Requirement already satisfied: idna<4,>=2.5 in /usr/local/lib/python3.10/dist-packages (from requests->transformers>=4.26.1->multimodal-transformers) (3.4)\n",
            "Requirement already satisfied: urllib3<3,>=1.21.1 in /usr/local/lib/python3.10/dist-packages (from requests->transformers>=4.26.1->multimodal-transformers) (2.0.4)\n",
            "Requirement already satisfied: certifi>=2017.4.17 in /usr/local/lib/python3.10/dist-packages (from requests->transformers>=4.26.1->multimodal-transformers) (2023.7.22)\n",
            "Requirement already satisfied: mpmath>=0.19 in /usr/local/lib/python3.10/dist-packages (from sympy->torch>=1.13.1->multimodal-transformers) (1.3.0)\n",
            "Building wheels for collected packages: sacremoses\n",
            "  Building wheel for sacremoses (setup.py) ... \u001b[?25l\u001b[?25hdone\n",
            "  Created wheel for sacremoses: filename=sacremoses-0.0.53-py3-none-any.whl size=895240 sha256=a8dbbe19f82b71df37d3de180c797934be6c73b866639c757ec88fab0b87fd15\n",
            "  Stored in directory: /root/.cache/pip/wheels/00/24/97/a2ea5324f36bc626e1ea0267f33db6aa80d157ee977e9e42fb\n",
            "Successfully built sacremoses\n",
            "Installing collected packages: tokenizers, safetensors, tqdm, pytest, numpy, networkx, scipy, sacremoses, pandas, huggingface-hub, transformers, scikit-learn, multimodal-transformers\n",
            "  Attempting uninstall: tqdm\n",
            "    Found existing installation: tqdm 4.66.1\n",
            "    Uninstalling tqdm-4.66.1:\n",
            "      Successfully uninstalled tqdm-4.66.1\n",
            "  Attempting uninstall: pytest\n",
            "    Found existing installation: pytest 7.4.0\n",
            "    Uninstalling pytest-7.4.0:\n",
            "      Successfully uninstalled pytest-7.4.0\n",
            "  Attempting uninstall: numpy\n",
            "    Found existing installation: numpy 1.23.5\n",
            "    Uninstalling numpy-1.23.5:\n",
            "      Successfully uninstalled numpy-1.23.5\n",
            "  Attempting uninstall: networkx\n",
            "    Found existing installation: networkx 3.1\n",
            "    Uninstalling networkx-3.1:\n",
            "      Successfully uninstalled networkx-3.1\n",
            "  Attempting uninstall: scipy\n",
            "    Found existing installation: scipy 1.10.1\n",
            "    Uninstalling scipy-1.10.1:\n",
            "      Successfully uninstalled scipy-1.10.1\n",
            "  Attempting uninstall: pandas\n",
            "    Found existing installation: pandas 1.5.3\n",
            "    Uninstalling pandas-1.5.3:\n",
            "      Successfully uninstalled pandas-1.5.3\n",
            "  Attempting uninstall: scikit-learn\n",
            "    Found existing installation: scikit-learn 1.2.2\n",
            "    Uninstalling scikit-learn-1.2.2:\n",
            "      Successfully uninstalled scikit-learn-1.2.2\n",
            "\u001b[31mERROR: pip's dependency resolver does not currently take into account all the packages that are installed. This behaviour is the source of the following dependency conflicts.\n",
            "arviz 0.15.1 requires scipy>=1.8.0, but you have scipy 1.7.3 which is incompatible.\n",
            "google-colab 1.0.0 requires pandas==1.5.3, but you have pandas 1.3.5 which is incompatible.\n",
            "jax 0.4.14 requires numpy>=1.22, but you have numpy 1.21.6 which is incompatible.\n",
            "jaxlib 0.4.14+cuda11.cudnn86 requires numpy>=1.22, but you have numpy 1.21.6 which is incompatible.\n",
            "plotnine 0.12.2 requires numpy>=1.23.0, but you have numpy 1.21.6 which is incompatible.\n",
            "plotnine 0.12.2 requires pandas>=1.5.0, but you have pandas 1.3.5 which is incompatible.\n",
            "tensorflow 2.12.0 requires numpy<1.24,>=1.22, but you have numpy 1.21.6 which is incompatible.\n",
            "xarray 2023.7.0 requires pandas>=1.4, but you have pandas 1.3.5 which is incompatible.\u001b[0m\u001b[31m\n",
            "\u001b[0mSuccessfully installed huggingface-hub-0.16.4 multimodal-transformers-0.2a0 networkx-2.6.3 numpy-1.21.6 pandas-1.3.5 pytest-7.2.2 sacremoses-0.0.53 safetensors-0.3.2 scikit-learn-1.0.2 scipy-1.7.3 tokenizers-0.13.3 tqdm-4.64.1 transformers-4.31.0\n"
          ]
        },
        {
          "output_type": "display_data",
          "data": {
            "application/vnd.colab-display-data+json": {
              "pip_warning": {
                "packages": [
                  "numpy"
                ]
              }
            }
          },
          "metadata": {}
        },
        {
          "output_type": "stream",
          "name": "stdout",
          "text": [
            "Requirement already satisfied: pandas in /usr/local/lib/python3.10/dist-packages (1.3.5)\n",
            "Collecting pandas\n",
            "  Downloading pandas-2.0.3-cp310-cp310-manylinux_2_17_x86_64.manylinux2014_x86_64.whl (12.3 MB)\n",
            "\u001b[?25l     \u001b[90m━━━━━━━━━━━━━━━━━━━━━━━━━━━━━━━━━━━━━━━━\u001b[0m \u001b[32m0.0/12.3 MB\u001b[0m \u001b[31m?\u001b[0m eta \u001b[36m-:--:--\u001b[0m\r\u001b[2K     \u001b[90m━━━━━━━━━━━━━━━━━━━━━━━━━━━━━━━━━━━━━━━━\u001b[0m \u001b[32m0.1/12.3 MB\u001b[0m \u001b[31m1.7 MB/s\u001b[0m eta \u001b[36m0:00:08\u001b[0m\r\u001b[2K     \u001b[91m━━━━━━━\u001b[0m\u001b[91m╸\u001b[0m\u001b[90m━━━━━━━━━━━━━━━━━━━━━━━━━━━━━━━━\u001b[0m \u001b[32m2.4/12.3 MB\u001b[0m \u001b[31m35.6 MB/s\u001b[0m eta \u001b[36m0:00:01\u001b[0m\r\u001b[2K     \u001b[91m━━━━━━━━━━━━━━━━━━━━━━━\u001b[0m\u001b[91m╸\u001b[0m\u001b[90m━━━━━━━━━━━━━━━━\u001b[0m \u001b[32m7.4/12.3 MB\u001b[0m \u001b[31m70.9 MB/s\u001b[0m eta \u001b[36m0:00:01\u001b[0m\r\u001b[2K     \u001b[91m━━━━━━━━━━━━━━━━━━━━━━━━━━━━━━━━━━━━━━\u001b[0m\u001b[91m╸\u001b[0m \u001b[32m12.3/12.3 MB\u001b[0m \u001b[31m166.8 MB/s\u001b[0m eta \u001b[36m0:00:01\u001b[0m\r\u001b[2K     \u001b[91m━━━━━━━━━━━━━━━━━━━━━━━━━━━━━━━━━━━━━━\u001b[0m\u001b[91m╸\u001b[0m \u001b[32m12.3/12.3 MB\u001b[0m \u001b[31m166.8 MB/s\u001b[0m eta \u001b[36m0:00:01\u001b[0m\r\u001b[2K     \u001b[90m━━━━━━━━━━━━━━━━━━━━━━━━━━━━━━━━━━━━━━━━\u001b[0m \u001b[32m12.3/12.3 MB\u001b[0m \u001b[31m90.1 MB/s\u001b[0m eta \u001b[36m0:00:00\u001b[0m\n",
            "\u001b[?25hRequirement already satisfied: python-dateutil>=2.8.2 in /usr/local/lib/python3.10/dist-packages (from pandas) (2.8.2)\n",
            "Requirement already satisfied: pytz>=2020.1 in /usr/local/lib/python3.10/dist-packages (from pandas) (2023.3)\n",
            "Collecting tzdata>=2022.1 (from pandas)\n",
            "  Downloading tzdata-2023.3-py2.py3-none-any.whl (341 kB)\n",
            "\u001b[?25l     \u001b[90m━━━━━━━━━━━━━━━━━━━━━━━━━━━━━━━━━━━━━━━━\u001b[0m \u001b[32m0.0/341.8 kB\u001b[0m \u001b[31m?\u001b[0m eta \u001b[36m-:--:--\u001b[0m\r\u001b[2K     \u001b[90m━━━━━━━━━━━━━━━━━━━━━━━━━━━━━━━━━━━━━━\u001b[0m \u001b[32m341.8/341.8 kB\u001b[0m \u001b[31m34.6 MB/s\u001b[0m eta \u001b[36m0:00:00\u001b[0m\n",
            "\u001b[?25hRequirement already satisfied: numpy>=1.21.0 in /usr/local/lib/python3.10/dist-packages (from pandas) (1.21.6)\n",
            "Requirement already satisfied: six>=1.5 in /usr/local/lib/python3.10/dist-packages (from python-dateutil>=2.8.2->pandas) (1.16.0)\n",
            "Installing collected packages: tzdata, pandas\n",
            "  Attempting uninstall: pandas\n",
            "    Found existing installation: pandas 1.3.5\n",
            "    Uninstalling pandas-1.3.5:\n",
            "      Successfully uninstalled pandas-1.3.5\n",
            "\u001b[31mERROR: pip's dependency resolver does not currently take into account all the packages that are installed. This behaviour is the source of the following dependency conflicts.\n",
            "arviz 0.15.1 requires scipy>=1.8.0, but you have scipy 1.7.3 which is incompatible.\n",
            "google-colab 1.0.0 requires pandas==1.5.3, but you have pandas 2.0.3 which is incompatible.\n",
            "multimodal-transformers 0.2a0 requires pandas~=1.3.5, but you have pandas 2.0.3 which is incompatible.\n",
            "plotnine 0.12.2 requires numpy>=1.23.0, but you have numpy 1.21.6 which is incompatible.\u001b[0m\u001b[31m\n",
            "\u001b[0mSuccessfully installed pandas-2.0.3 tzdata-2023.3\n",
            "Collecting accelerate\n",
            "  Downloading accelerate-0.21.0-py3-none-any.whl (244 kB)\n",
            "\u001b[2K     \u001b[90m━━━━━━━━━━━━━━━━━━━━━━━━━━━━━━━━━━━━━━━\u001b[0m \u001b[32m244.2/244.2 kB\u001b[0m \u001b[31m4.9 MB/s\u001b[0m eta \u001b[36m0:00:00\u001b[0m\n",
            "\u001b[?25hRequirement already satisfied: numpy>=1.17 in /usr/local/lib/python3.10/dist-packages (from accelerate) (1.21.6)\n",
            "Requirement already satisfied: packaging>=20.0 in /usr/local/lib/python3.10/dist-packages (from accelerate) (23.1)\n",
            "Requirement already satisfied: psutil in /usr/local/lib/python3.10/dist-packages (from accelerate) (5.9.5)\n",
            "Requirement already satisfied: pyyaml in /usr/local/lib/python3.10/dist-packages (from accelerate) (6.0.1)\n",
            "Requirement already satisfied: torch>=1.10.0 in /usr/local/lib/python3.10/dist-packages (from accelerate) (2.0.1+cu118)\n",
            "Requirement already satisfied: filelock in /usr/local/lib/python3.10/dist-packages (from torch>=1.10.0->accelerate) (3.12.2)\n",
            "Requirement already satisfied: typing-extensions in /usr/local/lib/python3.10/dist-packages (from torch>=1.10.0->accelerate) (4.7.1)\n",
            "Requirement already satisfied: sympy in /usr/local/lib/python3.10/dist-packages (from torch>=1.10.0->accelerate) (1.12)\n",
            "Requirement already satisfied: networkx in /usr/local/lib/python3.10/dist-packages (from torch>=1.10.0->accelerate) (2.6.3)\n",
            "Requirement already satisfied: jinja2 in /usr/local/lib/python3.10/dist-packages (from torch>=1.10.0->accelerate) (3.1.2)\n",
            "Requirement already satisfied: triton==2.0.0 in /usr/local/lib/python3.10/dist-packages (from torch>=1.10.0->accelerate) (2.0.0)\n",
            "Requirement already satisfied: cmake in /usr/local/lib/python3.10/dist-packages (from triton==2.0.0->torch>=1.10.0->accelerate) (3.27.2)\n",
            "Requirement already satisfied: lit in /usr/local/lib/python3.10/dist-packages (from triton==2.0.0->torch>=1.10.0->accelerate) (16.0.6)\n",
            "Requirement already satisfied: MarkupSafe>=2.0 in /usr/local/lib/python3.10/dist-packages (from jinja2->torch>=1.10.0->accelerate) (2.1.3)\n",
            "Requirement already satisfied: mpmath>=0.19 in /usr/local/lib/python3.10/dist-packages (from sympy->torch>=1.10.0->accelerate) (1.3.0)\n",
            "Installing collected packages: accelerate\n",
            "Successfully installed accelerate-0.21.0\n",
            "Requirement already satisfied: transformers in /usr/local/lib/python3.10/dist-packages (4.31.0)\n",
            "Requirement already satisfied: filelock in /usr/local/lib/python3.10/dist-packages (from transformers) (3.12.2)\n",
            "Requirement already satisfied: huggingface-hub<1.0,>=0.14.1 in /usr/local/lib/python3.10/dist-packages (from transformers) (0.16.4)\n",
            "Requirement already satisfied: numpy>=1.17 in /usr/local/lib/python3.10/dist-packages (from transformers) (1.21.6)\n",
            "Requirement already satisfied: packaging>=20.0 in /usr/local/lib/python3.10/dist-packages (from transformers) (23.1)\n",
            "Requirement already satisfied: pyyaml>=5.1 in /usr/local/lib/python3.10/dist-packages (from transformers) (6.0.1)\n",
            "Requirement already satisfied: regex!=2019.12.17 in /usr/local/lib/python3.10/dist-packages (from transformers) (2023.6.3)\n",
            "Requirement already satisfied: requests in /usr/local/lib/python3.10/dist-packages (from transformers) (2.31.0)\n",
            "Requirement already satisfied: tokenizers!=0.11.3,<0.14,>=0.11.1 in /usr/local/lib/python3.10/dist-packages (from transformers) (0.13.3)\n",
            "Requirement already satisfied: safetensors>=0.3.1 in /usr/local/lib/python3.10/dist-packages (from transformers) (0.3.2)\n",
            "Requirement already satisfied: tqdm>=4.27 in /usr/local/lib/python3.10/dist-packages (from transformers) (4.64.1)\n",
            "Requirement already satisfied: fsspec in /usr/local/lib/python3.10/dist-packages (from huggingface-hub<1.0,>=0.14.1->transformers) (2023.6.0)\n",
            "Requirement already satisfied: typing-extensions>=3.7.4.3 in /usr/local/lib/python3.10/dist-packages (from huggingface-hub<1.0,>=0.14.1->transformers) (4.7.1)\n",
            "Requirement already satisfied: charset-normalizer<4,>=2 in /usr/local/lib/python3.10/dist-packages (from requests->transformers) (3.2.0)\n",
            "Requirement already satisfied: idna<4,>=2.5 in /usr/local/lib/python3.10/dist-packages (from requests->transformers) (3.4)\n",
            "Requirement already satisfied: urllib3<3,>=1.21.1 in /usr/local/lib/python3.10/dist-packages (from requests->transformers) (2.0.4)\n",
            "Requirement already satisfied: certifi>=2017.4.17 in /usr/local/lib/python3.10/dist-packages (from requests->transformers) (2023.7.22)\n"
          ]
        }
      ],
      "source": [
        "!pip install multimodal-transformers\n",
        "!pip install -q kaggle\n",
        "!pip install pandas --upgrade\n",
        "!pip install -U accelerate\n",
        "!pip install -U transformers"
      ]
    },
    {
      "cell_type": "markdown",
      "metadata": {
        "id": "-lE-1qj7S7qh"
      },
      "source": [
        "## Setting up Kaggle\n",
        "To get the dataset from kaggle we must upload our kaggle.json file containing our kaggle api token. See https://www.kaggle.com/docs/api for details."
      ]
    },
    {
      "cell_type": "code",
      "execution_count": 3,
      "metadata": {
        "id": "rB2JjhkXRssl",
        "pycharm": {
          "name": "#%%\n"
        }
      },
      "outputs": [],
      "source": [
        "# from google.colab import files\n",
        "# files.upload()"
      ]
    },
    {
      "cell_type": "code",
      "execution_count": 4,
      "metadata": {
        "id": "1vmGDgzURssu",
        "pycharm": {
          "name": "#%%\n"
        }
      },
      "outputs": [],
      "source": [
        "# ! mkdir ~/.kaggle\n",
        "# ! cp kaggle.json ~/.kaggle/\n",
        "# ! chmod 600 ~/.kaggle/kaggle.json\n",
        "# ! kaggle datasets list"
      ]
    },
    {
      "cell_type": "markdown",
      "metadata": {
        "id": "DpFSVqyVRss1"
      },
      "source": [
        "## All other imports are here:"
      ]
    },
    {
      "cell_type": "code",
      "execution_count": 5,
      "metadata": {
        "id": "Scm6cPeURss2",
        "colab": {
          "base_uri": "https://localhost:8080/"
        },
        "outputId": "8cc7b210-60f3-482e-f3c3-c22ef05f375a"
      },
      "outputs": [
        {
          "output_type": "stream",
          "name": "stderr",
          "text": [
            "/usr/local/lib/python3.10/dist-packages/scipy/__init__.py:146: UserWarning: A NumPy version >=1.16.5 and <1.23.0 is required for this version of SciPy (detected version 1.23.5\n",
            "  warnings.warn(f\"A NumPy version >={np_minversion} and <{np_maxversion}\"\n"
          ]
        },
        {
          "output_type": "stream",
          "name": "stdout",
          "text": [
            "current directory: /content\n"
          ]
        }
      ],
      "source": [
        "from dataclasses import dataclass, field\n",
        "import json\n",
        "import logging\n",
        "import os\n",
        "from typing import Optional\n",
        "import accelerate\n",
        "\n",
        "import numpy as np\n",
        "import pandas as pd\n",
        "from transformers import (\n",
        "    AutoTokenizer,\n",
        "    AutoConfig,\n",
        "    Trainer,\n",
        "    EvalPrediction,\n",
        "    set_seed\n",
        ")\n",
        "from transformers.training_args import TrainingArguments\n",
        "\n",
        "from multimodal_transformers.data import load_data_from_folder\n",
        "from multimodal_transformers.model import TabularConfig\n",
        "from multimodal_transformers.model import AutoModelWithTabular\n",
        "\n",
        "logging.basicConfig(level=logging.INFO)\n",
        "os.environ['COMET_MODE'] = 'DISABLED'\n",
        "\n",
        "cur_dir = os.getcwd()\n",
        "print(f\"current directory: {cur_dir}\")\n",
        "if cur_dir != '/content/drive/MyDrive/Research/r4.2':\n",
        "  os.chdir('drive/MyDrive/Research/r4.2/')\n"
      ]
    },
    {
      "cell_type": "markdown",
      "metadata": {
        "id": "hjUqUXgpRstr"
      },
      "source": [
        "## Dataset\n",
        "\n",
        "Our dataset is the [Womens Clothing E-Commerce Reviews](https://www.kaggle.com/nicapotato/womens-ecommerce-clothing-reviews) dataset from kaggle. It contains reviews written by customers about clothing items as well as whether they recommend the data or not. We download the dataset here."
      ]
    },
    {
      "cell_type": "code",
      "execution_count": 6,
      "metadata": {
        "id": "XPke_vlMT4A_"
      },
      "outputs": [],
      "source": [
        "# !kaggle datasets download -d nicapotato/womens-ecommerce-clothing-reviews\n",
        "# !unzip womens-ecommerce-clothing-reviews.zip\n",
        "# !ls"
      ]
    },
    {
      "cell_type": "markdown",
      "metadata": {
        "id": "wVNx_Xd8Rst6"
      },
      "source": [
        "#### Let us take a look at what the dataset looks like"
      ]
    },
    {
      "cell_type": "code",
      "execution_count": 7,
      "metadata": {
        "id": "Ql8mJlKAUWX5"
      },
      "outputs": [],
      "source": [
        "# data_df = pd.read_csv('ExtractedData/dayr4.2.csv')\n",
        "# data_df.head(5)"
      ]
    },
    {
      "cell_type": "markdown",
      "metadata": {
        "id": "Qe8-dirpUjg8"
      },
      "source": [
        "We see that the data contains both text in the `Review Text` and `Title` column as well as tabular features in the `Division Name`, `Department Name`, and `Class Name` columns."
      ]
    },
    {
      "cell_type": "code",
      "execution_count": 8,
      "metadata": {
        "id": "VSFD6Jl0RsuO"
      },
      "outputs": [],
      "source": [
        "# data_df.describe()"
      ]
    },
    {
      "cell_type": "markdown",
      "metadata": {
        "id": "kOqO-hyaV6Dr"
      },
      "source": [
        "In this demonstration, we split our data into 8:1:1 training splits. We also save our splits to `train.csv`, `val.csv`, and `test.csv` as this is the format our dataloader requires.\n"
      ]
    },
    {
      "cell_type": "code",
      "execution_count": 9,
      "metadata": {
        "id": "uQ41PkSZRsts"
      },
      "outputs": [],
      "source": [
        "# train_df, val_df, test_df = np.split(data_df.sample(frac=1), [int(.8*len(data_df)), int(.9 * len(data_df))])\n",
        "# print('Num examples train-val-test')\n",
        "# print(len(train_df), len(val_df), len(test_df))\n",
        "# train_df.to_csv('train.csv')\n",
        "# val_df.to_csv('val.csv')\n",
        "# test_df.to_csv('test.csv')"
      ]
    },
    {
      "cell_type": "markdown",
      "metadata": {
        "id": "XA5z7WTqWV0A"
      },
      "source": [
        "## We then our Experiment Parameters\n",
        "We use Data Classes to hold each of our arguments for the model, data, and training."
      ]
    },
    {
      "cell_type": "code",
      "execution_count": 10,
      "metadata": {
        "id": "bNg22DHEWueA"
      },
      "outputs": [],
      "source": [
        "@dataclass\n",
        "class ModelArguments:\n",
        "  \"\"\"\n",
        "  Arguments pertaining to which model/config/tokenizer we are going to fine-tune from.\n",
        "  \"\"\"\n",
        "\n",
        "  model_name_or_path: str = field(\n",
        "      metadata={\"help\": \"Path to pretrained model or model identifier from huggingface.co/models\"}\n",
        "  )\n",
        "  config_name: Optional[str] = field(\n",
        "      default=None, metadata={\"help\": \"Pretrained config name or path if not the same as model_name\"}\n",
        "  )\n",
        "  tokenizer_name: Optional[str] = field(\n",
        "      default=None, metadata={\"help\": \"Pretrained tokenizer name or path if not the same as model_name\"}\n",
        "  )\n",
        "  cache_dir: Optional[str] = field(\n",
        "      default=None, metadata={\"help\": \"Where do you want to store the pretrained models downloaded from s3\"}\n",
        "  )\n",
        "\n",
        "\n",
        "@dataclass\n",
        "class MultimodalDataTrainingArguments:\n",
        "  \"\"\"\n",
        "  Arguments pertaining to how we combine tabular features\n",
        "  Using `HfArgumentParser` we can turn this class\n",
        "  into argparse arguments to be able to specify them on\n",
        "  the command line.\n",
        "  \"\"\"\n",
        "\n",
        "  data_path: str = field(metadata={\n",
        "                            'help': 'the path to the csv file containing the dataset'\n",
        "                        })\n",
        "  column_info_path: str = field(\n",
        "      default=None,\n",
        "      metadata={\n",
        "          'help': 'the path to the json file detailing which columns are text, categorical, numerical, and the label'\n",
        "  })\n",
        "\n",
        "  column_info: dict = field(\n",
        "      default=None,\n",
        "      metadata={\n",
        "          'help': 'a dict referencing the text, categorical, numerical, and label columns'\n",
        "                  'its keys are text_cols, num_cols, cat_cols, and label_col'\n",
        "  })\n",
        "\n",
        "  categorical_encode_type: str = field(default='ohe',\n",
        "                                        metadata={\n",
        "                                            'help': 'sklearn encoder to use for categorical data',\n",
        "                                            'choices': ['ohe', 'binary', 'label', 'none']\n",
        "                                        })\n",
        "  numerical_transformer_method: str = field(default='yeo_johnson',\n",
        "                                            metadata={\n",
        "                                                'help': 'sklearn numerical transformer to preprocess numerical data',\n",
        "                                                'choices': ['yeo_johnson', 'box_cox', 'quantile_normal', 'none']\n",
        "                                            })\n",
        "  task: str = field(default=\"classification\",\n",
        "                    metadata={\n",
        "                        \"help\": \"The downstream training task\",\n",
        "                        \"choices\": [\"classification\", \"regression\"]\n",
        "                    })\n",
        "\n",
        "  mlp_division: int = field(default=4,\n",
        "                            metadata={\n",
        "                                'help': 'the ratio of the number of '\n",
        "                                        'hidden dims in a current layer to the next MLP layer'\n",
        "                            })\n",
        "  combine_feat_method: str = field(default='individual_mlps_on_cat_and_numerical_feats_then_concat',\n",
        "                                    metadata={\n",
        "                                        'help': 'method to combine categorical and numerical features, '\n",
        "                                                'see README for all the method'\n",
        "                                    })\n",
        "  mlp_dropout: float = field(default=0.1,\n",
        "                              metadata={\n",
        "                                'help': 'dropout ratio used for MLP layers'\n",
        "                              })\n",
        "  numerical_bn: bool = field(default=True,\n",
        "                              metadata={\n",
        "                                  'help': 'whether to use batchnorm on numerical features'\n",
        "                              })\n",
        "  use_simple_classifier: str = field(default=True,\n",
        "                                      metadata={\n",
        "                                          'help': 'whether to use single layer or MLP as final classifier'\n",
        "                                      })\n",
        "  mlp_act: str = field(default='relu',\n",
        "                        metadata={\n",
        "                            'help': 'the activation function to use for finetuning layers',\n",
        "                            'choices': ['relu', 'prelu', 'sigmoid', 'tanh', 'linear']\n",
        "                        })\n",
        "  gating_beta: float = field(default=0.2,\n",
        "                              metadata={\n",
        "                                  'help': \"the beta hyperparameters used for gating tabular data \"\n",
        "                                          \"see https://www.aclweb.org/anthology/2020.acl-main.214.pdf\"\n",
        "                              })\n",
        "\n",
        "  def __post_init__(self):\n",
        "      assert self.column_info != self.column_info_path\n",
        "      if self.column_info is None and self.column_info_path:\n",
        "          with open(self.column_info_path, 'r') as f:\n",
        "              self.column_info = json.load(f)"
      ]
    },
    {
      "cell_type": "markdown",
      "metadata": {
        "id": "7ZC5ds3lRsuS"
      },
      "source": [
        "### Here are the data and training parameters we will use.\n",
        "For model we can specify any supported HuggingFace model classes (see README for more details) as well as any AutoModel that are from the supported model classes. For the data specifications, we need to specify a dictionary that specifies which columns are the `text` columns, `numerical feature` columns, `categorical feature` column, and the `label` column. If we are doing classification, we can also specify what each of the labels means in the label column through the `label list`. We can also specifiy these columns using a path to a json file with the argument `column_info_path` to `MultimodalDataTrainingArguments`."
      ]
    },
    {
      "cell_type": "code",
      "execution_count": 30,
      "metadata": {
        "id": "MGjGmetXRsuS"
      },
      "outputs": [],
      "source": [
        "if cur_dir != '/content/drive/MyDrive/Research/r4.2/MockDataset':\n",
        "  os.chdir('/content/drive/MyDrive/Research/r4.2/MockDataset')\n",
        "\n",
        "# text_cols = ['Title', 'Review Text']\n",
        "# cat_cols = ['Clothing ID', 'Division Name', 'Department Name', 'Class Name']\n",
        "# numerical_cols = ['Rating', 'Age', 'Positive Feedback Count']\n",
        "# cat_cols = ['user', 'day', 'week', 'role', 'dept', 'team']\n",
        "cat_cols = []\n",
        "text_cols = [\"Unnamed: 0\", \"starttime\", \"endtime\", \"isweekday\", \"isweekend\", \"b_unit\", \"f_unit\", \"ITAdmin\", \"O\", \"C\", \"E\", \"A\", \"N\", \"n_allact\", \"allact_n-pc0\", \"allact_n-pc1\", \"allact_n-pc2\", \"allact_n-pc3\", \"n_workhourallact\", \"workhourallact_n-pc0\", \"workhourallact_n-pc1\", \"workhourallact_n-pc2\", \"workhourallact_n-pc3\", \"n_afterhourallact\", \"afterhourallact_n-pc0\", \"afterhourallact_n-pc1\", \"afterhourallact_n-pc2\", \"afterhourallact_n-pc3\", \"n_logon\", \"logon_n-pc0\", \"logon_n-pc1\", \"logon_n-pc2\", \"logon_n-pc3\", \"n_workhourlogon\", \"workhourlogon_n-pc0\", \"workhourlogon_n-pc1\", \"workhourlogon_n-pc2\", \"workhourlogon_n-pc3\", \"n_afterhourlogon\", \"afterhourlogon_n-pc0\", \"afterhourlogon_n-pc1\", \"afterhourlogon_n-pc2\", \"afterhourlogon_n-pc3\", \"n_usb\", \"usb_mean_usb_dur\", \"usb_n-pc0\", \"usb_n-pc1\", \"usb_n-pc2\", \"usb_n-pc3\", \"n_workhourusb\", \"workhourusb_mean_usb_dur\", \"workhourusb_n-pc0\", \"workhourusb_n-pc1\", \"workhourusb_n-pc2\", \"workhourusb_n-pc3\", \"n_afterhourusb\", \"afterhourusb_mean_usb_dur\", \"afterhourusb_n-pc0\", \"afterhourusb_n-pc1\", \"afterhourusb_n-pc2\", \"afterhourusb_n-pc3\", \"n_file\", \"file_mean_file_len\", \"file_mean_file_depth\", \"file_mean_file_nwords\", \"file_n-disk0\", \"file_n-disk1\", \"file_n-pc0\", \"file_n-pc1\", \"file_n-pc2\", \"file_n-pc3\", \"file_n_otherf\", \"file_otherf_mean_file_len\", \"file_otherf_mean_file_depth\", \"file_otherf_mean_file_nwords\", \"file_otherf_n-disk0\", \"file_otherf_n-disk1\", \"file_otherf_n-pc0\", \"file_otherf_n-pc1\", \"file_otherf_n-pc2\", \"file_otherf_n-pc3\", \"file_n_compf\", \"file_compf_mean_file_len\", \"file_compf_mean_file_depth\", \"file_compf_mean_file_nwords\", \"file_compf_n-disk0\", \"file_compf_n-disk1\", \"file_compf_n-pc0\", \"file_compf_n-pc1\", \"file_compf_n-pc2\", \"file_compf_n-pc3\", \"file_n_phof\", \"file_phof_mean_file_len\", \"file_phof_mean_file_depth\", \"file_phof_mean_file_nwords\", \"file_phof_n-disk0\", \"file_phof_n-disk1\", \"file_phof_n-pc0\", \"file_phof_n-pc1\", \"file_phof_n-pc2\", \"file_phof_n-pc3\", \"file_n_docf\", \"file_docf_mean_file_len\", \"file_docf_mean_file_depth\", \"file_docf_mean_file_nwords\", \"file_docf_n-disk0\", \"file_docf_n-disk1\", \"file_docf_n-pc0\", \"file_docf_n-pc1\", \"file_docf_n-pc2\", \"file_docf_n-pc3\", \"file_n_txtf\", \"file_txtf_mean_file_len\", \"file_txtf_mean_file_depth\", \"file_txtf_mean_file_nwords\", \"file_txtf_n-disk0\", \"file_txtf_n-disk1\", \"file_txtf_n-pc0\", \"file_txtf_n-pc1\", \"file_txtf_n-pc2\", \"file_txtf_n-pc3\", \"file_n_exef\", \"file_exef_mean_file_len\", \"file_exef_mean_file_depth\", \"file_exef_mean_file_nwords\", \"file_exef_n-disk0\", \"file_exef_n-disk1\", \"file_exef_n-pc0\", \"file_exef_n-pc1\", \"file_exef_n-pc2\", \"file_exef_n-pc3\", \"n_workhourfile\", \"workhourfile_mean_file_len\", \"workhourfile_mean_file_depth\", \"workhourfile_mean_file_nwords\", \"workhourfile_n-disk0\", \"workhourfile_n-disk1\", \"workhourfile_n-pc0\", \"workhourfile_n-pc1\", \"workhourfile_n-pc2\", \"workhourfile_n-pc3\", \"workhourfile_n_otherf\", \"workhourfile_otherf_mean_file_len\", \"workhourfile_otherf_mean_file_depth\", \"workhourfile_otherf_mean_file_nwords\", \"workhourfile_otherf_n-disk0\", \"workhourfile_otherf_n-disk1\", \"workhourfile_otherf_n-pc0\", \"workhourfile_otherf_n-pc1\", \"workhourfile_otherf_n-pc2\", \"workhourfile_otherf_n-pc3\", \"workhourfile_n_compf\", \"workhourfile_compf_mean_file_len\", \"workhourfile_compf_mean_file_depth\", \"workhourfile_compf_mean_file_nwords\", \"workhourfile_compf_n-disk0\", \"workhourfile_compf_n-disk1\", \"workhourfile_compf_n-pc0\", \"workhourfile_compf_n-pc1\", \"workhourfile_compf_n-pc2\", \"workhourfile_compf_n-pc3\", \"workhourfile_n_phof\", \"workhourfile_phof_mean_file_len\", \"workhourfile_phof_mean_file_depth\", \"workhourfile_phof_mean_file_nwords\", \"workhourfile_phof_n-disk0\", \"workhourfile_phof_n-disk1\", \"workhourfile_phof_n-pc0\", \"workhourfile_phof_n-pc1\", \"workhourfile_phof_n-pc2\", \"workhourfile_phof_n-pc3\", \"workhourfile_n_docf\", \"workhourfile_docf_mean_file_len\", \"workhourfile_docf_mean_file_depth\", \"workhourfile_docf_mean_file_nwords\", \"workhourfile_docf_n-disk0\", \"workhourfile_docf_n-disk1\", \"workhourfile_docf_n-pc0\", \"workhourfile_docf_n-pc1\", \"workhourfile_docf_n-pc2\", \"workhourfile_docf_n-pc3\", \"workhourfile_n_txtf\", \"workhourfile_txtf_mean_file_len\", \"workhourfile_txtf_mean_file_depth\", \"workhourfile_txtf_mean_file_nwords\", \"workhourfile_txtf_n-disk0\", \"workhourfile_txtf_n-disk1\", \"workhourfile_txtf_n-pc0\", \"workhourfile_txtf_n-pc1\", \"workhourfile_txtf_n-pc2\", \"workhourfile_txtf_n-pc3\", \"workhourfile_n_exef\", \"workhourfile_exef_mean_file_len\", \"workhourfile_exef_mean_file_depth\", \"workhourfile_exef_mean_file_nwords\", \"workhourfile_exef_n-disk0\", \"workhourfile_exef_n-disk1\", \"workhourfile_exef_n-pc0\", \"workhourfile_exef_n-pc1\", \"workhourfile_exef_n-pc2\", \"workhourfile_exef_n-pc3\", \"n_afterhourfile\", \"afterhourfile_mean_file_len\", \"afterhourfile_mean_file_depth\", \"afterhourfile_mean_file_nwords\", \"afterhourfile_n-disk0\", \"afterhourfile_n-disk1\", \"afterhourfile_n-pc0\", \"afterhourfile_n-pc1\", \"afterhourfile_n-pc2\", \"afterhourfile_n-pc3\", \"afterhourfile_n_otherf\", \"afterhourfile_otherf_mean_file_len\", \"afterhourfile_otherf_mean_file_depth\", \"afterhourfile_otherf_mean_file_nwords\", \"afterhourfile_otherf_n-disk0\", \"afterhourfile_otherf_n-disk1\", \"afterhourfile_otherf_n-pc0\", \"afterhourfile_otherf_n-pc1\", \"afterhourfile_otherf_n-pc2\", \"afterhourfile_otherf_n-pc3\", \"afterhourfile_n_compf\", \"afterhourfile_compf_mean_file_len\", \"afterhourfile_compf_mean_file_depth\", \"afterhourfile_compf_mean_file_nwords\", \"afterhourfile_compf_n-disk0\", \"afterhourfile_compf_n-disk1\", \"afterhourfile_compf_n-pc0\", \"afterhourfile_compf_n-pc1\", \"afterhourfile_compf_n-pc2\", \"afterhourfile_compf_n-pc3\", \"afterhourfile_n_phof\", \"afterhourfile_phof_mean_file_len\", \"afterhourfile_phof_mean_file_depth\", \"afterhourfile_phof_mean_file_nwords\", \"afterhourfile_phof_n-disk0\", \"afterhourfile_phof_n-disk1\", \"afterhourfile_phof_n-pc0\", \"afterhourfile_phof_n-pc1\", \"afterhourfile_phof_n-pc2\", \"afterhourfile_phof_n-pc3\", \"afterhourfile_n_docf\", \"afterhourfile_docf_mean_file_len\", \"afterhourfile_docf_mean_file_depth\", \"afterhourfile_docf_mean_file_nwords\", \"afterhourfile_docf_n-disk0\", \"afterhourfile_docf_n-disk1\", \"afterhourfile_docf_n-pc0\", \"afterhourfile_docf_n-pc1\", \"afterhourfile_docf_n-pc2\", \"afterhourfile_docf_n-pc3\", \"afterhourfile_n_txtf\", \"afterhourfile_txtf_mean_file_len\", \"afterhourfile_txtf_mean_file_depth\", \"afterhourfile_txtf_mean_file_nwords\", \"afterhourfile_txtf_n-disk0\", \"afterhourfile_txtf_n-disk1\", \"afterhourfile_txtf_n-pc0\", \"afterhourfile_txtf_n-pc1\", \"afterhourfile_txtf_n-pc2\", \"afterhourfile_txtf_n-pc3\", \"afterhourfile_n_exef\", \"afterhourfile_exef_mean_file_len\", \"afterhourfile_exef_mean_file_depth\", \"afterhourfile_exef_mean_file_nwords\", \"afterhourfile_exef_n-disk0\", \"afterhourfile_exef_n-disk1\", \"afterhourfile_exef_n-pc0\", \"afterhourfile_exef_n-pc1\", \"afterhourfile_exef_n-pc2\", \"afterhourfile_exef_n-pc3\", \"n_email\", \"email_mean_n_des\", \"email_mean_n_atts\", \"email_mean_n_exdes\", \"email_mean_n_bccdes\", \"email_mean_email_size\", \"email_mean_email_text_slen\", \"email_mean_email_text_nwords\", \"email_n-Xemail1\", \"email_n-exbccmail1\", \"email_n-pc0\", \"email_n-pc1\", \"email_n-pc2\", \"email_n-pc3\", \"n_workhouremail\", \"workhouremail_mean_n_des\", \"workhouremail_mean_n_atts\", \"workhouremail_mean_n_exdes\", \"workhouremail_mean_n_bccdes\", \"workhouremail_mean_email_size\", \"workhouremail_mean_email_text_slen\", \"workhouremail_mean_email_text_nwords\", \"workhouremail_n-Xemail1\", \"workhouremail_n-exbccmail1\", \"workhouremail_n-pc0\", \"workhouremail_n-pc1\", \"workhouremail_n-pc2\", \"workhouremail_n-pc3\", \"n_afterhouremail\", \"afterhouremail_mean_n_des\", \"afterhouremail_mean_n_atts\", \"afterhouremail_mean_n_exdes\", \"afterhouremail_mean_n_bccdes\", \"afterhouremail_mean_email_size\", \"afterhouremail_mean_email_text_slen\", \"afterhouremail_mean_email_text_nwords\", \"afterhouremail_n-Xemail1\", \"afterhouremail_n-exbccmail1\", \"afterhouremail_n-pc0\", \"afterhouremail_n-pc1\", \"afterhouremail_n-pc2\", \"afterhouremail_n-pc3\", \"n_http\", \"http_mean_url_len\", \"http_mean_url_depth\", \"http_mean_http_c_len\", \"http_mean_http_c_nwords\", \"http_n-pc0\", \"http_n-pc1\", \"http_n-pc2\", \"http_n-pc3\", \"http_n_otherf\", \"http_otherf_mean_url_len\", \"http_otherf_mean_url_depth\", \"http_otherf_mean_http_c_len\", \"http_otherf_mean_http_c_nwords\", \"http_otherf_n-pc0\", \"http_otherf_n-pc1\", \"http_otherf_n-pc2\", \"http_otherf_n-pc3\", \"http_n_socnetf\", \"http_socnetf_mean_url_len\", \"http_socnetf_mean_url_depth\", \"http_socnetf_mean_http_c_len\", \"http_socnetf_mean_http_c_nwords\", \"http_socnetf_n-pc0\", \"http_socnetf_n-pc1\", \"http_socnetf_n-pc2\", \"http_socnetf_n-pc3\", \"http_n_cloudf\", \"http_cloudf_mean_url_len\", \"http_cloudf_mean_url_depth\", \"http_cloudf_mean_http_c_len\", \"http_cloudf_mean_http_c_nwords\", \"http_cloudf_n-pc0\", \"http_cloudf_n-pc1\", \"http_cloudf_n-pc2\", \"http_cloudf_n-pc3\", \"http_n_jobf\", \"http_jobf_mean_url_len\", \"http_jobf_mean_url_depth\", \"http_jobf_mean_http_c_len\", \"http_jobf_mean_http_c_nwords\", \"http_jobf_n-pc0\", \"http_jobf_n-pc1\", \"http_jobf_n-pc2\", \"http_jobf_n-pc3\", \"http_n_leakf\", \"http_leakf_mean_url_len\", \"http_leakf_mean_url_depth\", \"http_leakf_mean_http_c_len\", \"http_leakf_mean_http_c_nwords\", \"http_leakf_n-pc0\", \"http_leakf_n-pc1\", \"http_leakf_n-pc2\", \"http_leakf_n-pc3\", \"http_n_hackf\", \"http_hackf_mean_url_len\", \"http_hackf_mean_url_depth\", \"http_hackf_mean_http_c_len\", \"http_hackf_mean_http_c_nwords\", \"http_hackf_n-pc0\", \"http_hackf_n-pc1\", \"http_hackf_n-pc2\", \"http_hackf_n-pc3\", \"n_workhourhttp\", \"workhourhttp_mean_url_len\", \"workhourhttp_mean_url_depth\", \"workhourhttp_mean_http_c_len\", \"workhourhttp_mean_http_c_nwords\", \"workhourhttp_n-pc0\", \"workhourhttp_n-pc1\", \"workhourhttp_n-pc2\", \"workhourhttp_n-pc3\", \"workhourhttp_n_otherf\", \"workhourhttp_otherf_mean_url_len\", \"workhourhttp_otherf_mean_url_depth\", \"workhourhttp_otherf_mean_http_c_len\", \"workhourhttp_otherf_mean_http_c_nwords\", \"workhourhttp_otherf_n-pc0\", \"workhourhttp_otherf_n-pc1\", \"workhourhttp_otherf_n-pc2\", \"workhourhttp_otherf_n-pc3\", \"workhourhttp_n_socnetf\", \"workhourhttp_socnetf_mean_url_len\", \"workhourhttp_socnetf_mean_url_depth\", \"workhourhttp_socnetf_mean_http_c_len\", \"workhourhttp_socnetf_mean_http_c_nwords\", \"workhourhttp_socnetf_n-pc0\", \"workhourhttp_socnetf_n-pc1\", \"workhourhttp_socnetf_n-pc2\", \"workhourhttp_socnetf_n-pc3\", \"workhourhttp_n_cloudf\", \"workhourhttp_cloudf_mean_url_len\", \"workhourhttp_cloudf_mean_url_depth\", \"workhourhttp_cloudf_mean_http_c_len\", \"workhourhttp_cloudf_mean_http_c_nwords\", \"workhourhttp_cloudf_n-pc0\", \"workhourhttp_cloudf_n-pc1\", \"workhourhttp_cloudf_n-pc2\", \"workhourhttp_cloudf_n-pc3\", \"workhourhttp_n_jobf\", \"workhourhttp_jobf_mean_url_len\", \"workhourhttp_jobf_mean_url_depth\", \"workhourhttp_jobf_mean_http_c_len\", \"workhourhttp_jobf_mean_http_c_nwords\", \"workhourhttp_jobf_n-pc0\", \"workhourhttp_jobf_n-pc1\", \"workhourhttp_jobf_n-pc2\", \"workhourhttp_jobf_n-pc3\", \"workhourhttp_n_leakf\", \"workhourhttp_leakf_mean_url_len\", \"workhourhttp_leakf_mean_url_depth\", \"workhourhttp_leakf_mean_http_c_len\", \"workhourhttp_leakf_mean_http_c_nwords\", \"workhourhttp_leakf_n-pc0\", \"workhourhttp_leakf_n-pc1\", \"workhourhttp_leakf_n-pc2\", \"workhourhttp_leakf_n-pc3\", \"workhourhttp_n_hackf\", \"workhourhttp_hackf_mean_url_len\", \"workhourhttp_hackf_mean_url_depth\", \"workhourhttp_hackf_mean_http_c_len\", \"workhourhttp_hackf_mean_http_c_nwords\", \"workhourhttp_hackf_n-pc0\", \"workhourhttp_hackf_n-pc1\", \"workhourhttp_hackf_n-pc2\", \"workhourhttp_hackf_n-pc3\", \"n_afterhourhttp\", \"afterhourhttp_mean_url_len\", \"afterhourhttp_mean_url_depth\", \"afterhourhttp_mean_http_c_len\", \"afterhourhttp_mean_http_c_nwords\", \"afterhourhttp_n-pc0\", \"afterhourhttp_n-pc1\", \"afterhourhttp_n-pc2\", \"afterhourhttp_n-pc3\", \"afterhourhttp_n_otherf\", \"afterhourhttp_otherf_mean_url_len\", \"afterhourhttp_otherf_mean_url_depth\", \"afterhourhttp_otherf_mean_http_c_len\", \"afterhourhttp_otherf_mean_http_c_nwords\", \"afterhourhttp_otherf_n-pc0\", \"afterhourhttp_otherf_n-pc1\", \"afterhourhttp_otherf_n-pc2\", \"afterhourhttp_otherf_n-pc3\", \"afterhourhttp_n_socnetf\", \"afterhourhttp_socnetf_mean_url_len\", \"afterhourhttp_socnetf_mean_url_depth\", \"afterhourhttp_socnetf_mean_http_c_len\", \"afterhourhttp_socnetf_mean_http_c_nwords\", \"afterhourhttp_socnetf_n-pc0\", \"afterhourhttp_socnetf_n-pc1\", \"afterhourhttp_socnetf_n-pc2\", \"afterhourhttp_socnetf_n-pc3\", \"afterhourhttp_n_cloudf\", \"afterhourhttp_cloudf_mean_url_len\", \"afterhourhttp_cloudf_mean_url_depth\", \"afterhourhttp_cloudf_mean_http_c_len\", \"afterhourhttp_cloudf_mean_http_c_nwords\", \"afterhourhttp_cloudf_n-pc0\", \"afterhourhttp_cloudf_n-pc1\", \"afterhourhttp_cloudf_n-pc2\", \"afterhourhttp_cloudf_n-pc3\", \"afterhourhttp_n_jobf\", \"afterhourhttp_jobf_mean_url_len\", \"afterhourhttp_jobf_mean_url_depth\", \"afterhourhttp_jobf_mean_http_c_len\", \"afterhourhttp_jobf_mean_http_c_nwords\", \"afterhourhttp_jobf_n-pc0\", \"afterhourhttp_jobf_n-pc1\", \"afterhourhttp_jobf_n-pc2\", \"afterhourhttp_jobf_n-pc3\", \"afterhourhttp_n_leakf\", \"afterhourhttp_leakf_mean_url_len\", \"afterhourhttp_leakf_mean_url_depth\", \"afterhourhttp_leakf_mean_http_c_len\", \"afterhourhttp_leakf_mean_http_c_nwords\", \"afterhourhttp_leakf_n-pc0\", \"afterhourhttp_leakf_n-pc1\", \"afterhourhttp_leakf_n-pc2\", \"afterhourhttp_leakf_n-pc3\", \"afterhourhttp_n_hackf\", \"afterhourhttp_hackf_mean_url_len\", \"afterhourhttp_hackf_mean_url_depth\", \"afterhourhttp_hackf_mean_http_c_len\", \"afterhourhttp_hackf_mean_http_c_nwords\", \"afterhourhttp_hackf_n-pc0\", \"afterhourhttp_hackf_n-pc1\", \"afterhourhttp_hackf_n-pc2\", \"afterhourhttp_hackf_n-pc3\"]\n",
        "numerical_cols = []\n",
        "unique_labels = [0, 1, 2, 3]\n",
        "column_info_dict = {\n",
        "    'text_cols': text_cols,\n",
        "    'num_cols': numerical_cols,\n",
        "    'cat_cols': cat_cols,\n",
        "    'label_col': 'insider',\n",
        "    'label_list': unique_labels\n",
        "}\n",
        "\n",
        "\n",
        "model_args = ModelArguments(\n",
        "    model_name_or_path='bert-base-uncased'\n",
        ")\n",
        "\n",
        "data_args = MultimodalDataTrainingArguments(\n",
        "    data_path='.',\n",
        "    combine_feat_method='text_only',\n",
        "    column_info=column_info_dict,\n",
        "    task='classification',\n",
        "    categorical_encode_type=None,\n",
        "    numerical_transformer_method=\"none\"\n",
        ")\n",
        "\n",
        "training_args = TrainingArguments(\n",
        "    output_dir=\"./logs/model_name\",\n",
        "    logging_dir=\"./logs/runs\",\n",
        "    overwrite_output_dir=True,\n",
        "    do_train=True,\n",
        "    do_eval=True,\n",
        "    per_device_train_batch_size=4,\n",
        "    num_train_epochs=1,\n",
        "    evaluation_strategy='steps',\n",
        "    logging_steps=25,\n",
        "    eval_steps=250,\n",
        ")\n",
        "\n",
        "set_seed(training_args.seed)"
      ]
    },
    {
      "cell_type": "code",
      "source": [
        "print(len(text_cols))"
      ],
      "metadata": {
        "colab": {
          "base_uri": "https://localhost:8080/"
        },
        "id": "BsatVEFzT8By",
        "outputId": "3ab0162e-1553-429f-cd9a-10e51f09deef"
      },
      "execution_count": 12,
      "outputs": [
        {
          "output_type": "stream",
          "name": "stdout",
          "text": [
            "502\n"
          ]
        }
      ]
    },
    {
      "cell_type": "markdown",
      "metadata": {
        "id": "9ErHoD6pRsuZ"
      },
      "source": [
        "## Now we can load our model and data.\n",
        "### We first instantiate our HuggingFace tokenizer\n",
        "This is needed to prepare our custom torch dataset. See `torch_dataset.py` for details."
      ]
    },
    {
      "cell_type": "code",
      "execution_count": 13,
      "metadata": {
        "colab": {
          "base_uri": "https://localhost:8080/",
          "height": 163,
          "referenced_widgets": [
            "c14f095b3f6f42a8847bcd7fe39d58e8",
            "f7959a2e53654e0383e9c4d822b6669d",
            "3e7e1018fd7c4b2ca6ba505678d3dd40",
            "a57f3ae09a5b4171ace78abf1c4ce7a2",
            "7fbdb776963c444d9d4133111b778113",
            "04d904aa80934c94a44aded6dd533076",
            "7901a437b9dc4e4da61c12d1959e571b",
            "aadc6f95e70d415db2ff300f85a7678c",
            "6bed19029973443c98558e5773d0f2a8",
            "c664ae4377e84e68a347148a8c80a8b2",
            "88fab82c72834989ac5e79effb65dd48",
            "3647001e2f4d48b0bb3e148c195a341c",
            "f0c3ed9b36b947eca2d4443c658b97cb",
            "d1bac76aa26549a4bc925c4eda4d9234",
            "cb3e1d270ff64bddbb39193bf32ade16",
            "186d5b2be90a46ddaca03811c670d3e7",
            "49043cc5ad3a4dc3b74c38b3922fa83c",
            "6de1d2e106f2457fab2b900452c198f6",
            "3e21d071cc6640d8b9254a23427bd6b6",
            "8e7c4e94237f42149daef3554d697ccf",
            "2921de751f3e4f4b97162bd13ad75745",
            "4c19b204621e4f179b84e3e6bb9d343e",
            "3b8facfa8105485f8217789de772f385",
            "65f7227e9663464a9de740eab01e53be",
            "ef7d2098c5954216bd24b450bb8b5c75",
            "b8f73377e1984718a2f568fb7ad3b0e6",
            "8917428d68d24432a5712082caaafa5f",
            "eb2d2a91ab6347f8bf7238b01e2e1e25",
            "5184e2148bc44638830cb3d8b004c312",
            "2cae8909e5c0401da157503e6663f372",
            "4841fa528e0f475386e0b0866c46fbc4",
            "c4a03103814a433a8b4375a024799029",
            "a66266f3bed84a63874eab7869dba4c1",
            "22326c0efdce440b83799a5d2b1b46c7",
            "f5d64a6f3df84cd18e10d321692f707c",
            "ecda947cc2944c05ac9abb540dcad555",
            "0cb647729469494a96f5fec8e122ca98",
            "eb2cc296d6e7404caa548c36e7733406",
            "0d17247425d34cfa9c0bbe359f1ff78c",
            "2596bacad3244ad8a6ff71910f9122c4",
            "ea2a4c4768384bd6ab5cf7b3daff1a31",
            "f085a49552464450b6a69e20e2313613",
            "03507b1129d54040a627f1768d27c1b5",
            "6dfb6014eb324263b65b8b222cd26518"
          ]
        },
        "id": "38GJb0Y7RsuZ",
        "outputId": "27bd8f34-b30f-43fa-838d-d57142ff5a3b"
      },
      "outputs": [
        {
          "output_type": "stream",
          "name": "stdout",
          "text": [
            "Specified tokenizer:  bert-base-uncased\n"
          ]
        },
        {
          "output_type": "display_data",
          "data": {
            "text/plain": [
              "Downloading (…)okenizer_config.json:   0%|          | 0.00/28.0 [00:00<?, ?B/s]"
            ],
            "application/vnd.jupyter.widget-view+json": {
              "version_major": 2,
              "version_minor": 0,
              "model_id": "c14f095b3f6f42a8847bcd7fe39d58e8"
            }
          },
          "metadata": {}
        },
        {
          "output_type": "display_data",
          "data": {
            "text/plain": [
              "Downloading (…)lve/main/config.json:   0%|          | 0.00/570 [00:00<?, ?B/s]"
            ],
            "application/vnd.jupyter.widget-view+json": {
              "version_major": 2,
              "version_minor": 0,
              "model_id": "3647001e2f4d48b0bb3e148c195a341c"
            }
          },
          "metadata": {}
        },
        {
          "output_type": "display_data",
          "data": {
            "text/plain": [
              "Downloading (…)solve/main/vocab.txt:   0%|          | 0.00/232k [00:00<?, ?B/s]"
            ],
            "application/vnd.jupyter.widget-view+json": {
              "version_major": 2,
              "version_minor": 0,
              "model_id": "3b8facfa8105485f8217789de772f385"
            }
          },
          "metadata": {}
        },
        {
          "output_type": "display_data",
          "data": {
            "text/plain": [
              "Downloading (…)/main/tokenizer.json:   0%|          | 0.00/466k [00:00<?, ?B/s]"
            ],
            "application/vnd.jupyter.widget-view+json": {
              "version_major": 2,
              "version_minor": 0,
              "model_id": "22326c0efdce440b83799a5d2b1b46c7"
            }
          },
          "metadata": {}
        }
      ],
      "source": [
        "tokenizer_path_or_name = model_args.tokenizer_name if model_args.tokenizer_name else model_args.model_name_or_path\n",
        "print('Specified tokenizer: ', tokenizer_path_or_name)\n",
        "tokenizer = AutoTokenizer.from_pretrained(\n",
        "    tokenizer_path_or_name,\n",
        "    cache_dir=model_args.cache_dir,\n",
        ")"
      ]
    },
    {
      "cell_type": "markdown",
      "metadata": {
        "id": "Z-f4bMPLRsue"
      },
      "source": [
        "### Load dataset csvs to torch datasets\n",
        "The function `load_data_from_folder` expects a path to a folder that contains `train.csv`, `test.csv`, and/or `val.csv` containing the respective split datasets."
      ]
    },
    {
      "cell_type": "code",
      "execution_count": 14,
      "metadata": {
        "id": "Xz7LHXFoRsue"
      },
      "outputs": [],
      "source": [
        "# Get Datasets\n",
        "train_dataset, val_dataset, test_dataset = load_data_from_folder(\n",
        "    data_args.data_path,\n",
        "    data_args.column_info['text_cols'],\n",
        "    tokenizer,\n",
        "    label_col=data_args.column_info['label_col'],\n",
        "    label_list=data_args.column_info['label_list'],\n",
        "    categorical_cols=data_args.column_info['cat_cols'],\n",
        "    numerical_cols=data_args.column_info['num_cols'],\n",
        "    sep_text_token_str=tokenizer.sep_token,\n",
        "    categorical_encode_type=data_args.categorical_encode_type,\n",
        "    numerical_transformer_method=data_args.numerical_transformer_method,\n",
        ")"
      ]
    },
    {
      "cell_type": "code",
      "execution_count": 15,
      "metadata": {
        "id": "ABT1hK9cRsuk",
        "colab": {
          "base_uri": "https://localhost:8080/"
        },
        "outputId": "16497734-0251-41db-da56-a134596d22b5"
      },
      "outputs": [
        {
          "output_type": "execute_result",
          "data": {
            "text/plain": [
              "3"
            ]
          },
          "metadata": {},
          "execution_count": 15
        }
      ],
      "source": [
        "num_labels = len(np.unique(train_dataset.labels))\n",
        "num_labels"
      ]
    },
    {
      "cell_type": "code",
      "execution_count": 16,
      "metadata": {
        "id": "WZV-kyVqRsun"
      },
      "outputs": [],
      "source": [
        "config = AutoConfig.from_pretrained(\n",
        "            model_args.config_name\n",
        "            if model_args.config_name\n",
        "            else model_args.model_name_or_path,\n",
        "            cache_dir=model_args.cache_dir,\n",
        "        )\n",
        "tabular_config = TabularConfig(\n",
        "    num_labels=num_labels,\n",
        "    cat_feat_dim=train_dataset.cat_feats.shape[1]\n",
        "    if train_dataset.cat_feats is not None\n",
        "    else 0,\n",
        "    numerical_feat_dim=train_dataset.numerical_feats.shape[1]\n",
        "    if train_dataset.numerical_feats is not None\n",
        "    else 0,\n",
        "    **vars(data_args),\n",
        ")\n",
        "config.tabular_config = tabular_config"
      ]
    },
    {
      "cell_type": "code",
      "execution_count": 17,
      "metadata": {
        "id": "WXqprYO-Rsur",
        "colab": {
          "base_uri": "https://localhost:8080/",
          "height": 106,
          "referenced_widgets": [
            "934496f33fc44cf0b6a3f6662b7e62b9",
            "1b7dee9076f44cd4bcbacb004a80ed4a",
            "51a75dfc195a4a2bb99b1679b9366156",
            "032673a5a34e46a6b606c9bffabc34d8",
            "a805fddaa70a44cd9b5e8d8d3b5414b5",
            "0f8a7573a8584a09a426eb20e6f5c999",
            "542f7a96ee9643a1a4b2e199c74ca83b",
            "e4a25ffb5ec14355997a00c4cb702050",
            "588f4454f4514a0a8b0a8af73674d4f3",
            "2c6e4082d51249e1b7879780f01c08c0",
            "d68e858d09b54738925aff8af4569248"
          ]
        },
        "outputId": "0e6410d7-9567-4762-b3a2-e81f23c6ea71"
      },
      "outputs": [
        {
          "output_type": "display_data",
          "data": {
            "text/plain": [
              "Downloading model.safetensors:   0%|          | 0.00/440M [00:00<?, ?B/s]"
            ],
            "application/vnd.jupyter.widget-view+json": {
              "version_major": 2,
              "version_minor": 0,
              "model_id": "934496f33fc44cf0b6a3f6662b7e62b9"
            }
          },
          "metadata": {}
        },
        {
          "output_type": "stream",
          "name": "stderr",
          "text": [
            "Some weights of BertWithTabular were not initialized from the model checkpoint at bert-base-uncased and are newly initialized: ['classifier.weight', 'tabular_classifier.bias', 'classifier.bias', 'tabular_classifier.weight']\n",
            "You should probably TRAIN this model on a down-stream task to be able to use it for predictions and inference.\n"
          ]
        }
      ],
      "source": [
        "model = AutoModelWithTabular.from_pretrained(\n",
        "        model_args.config_name if model_args.config_name else model_args.model_name_or_path,\n",
        "        config=config,\n",
        "        cache_dir=model_args.cache_dir\n",
        "    )"
      ]
    },
    {
      "cell_type": "markdown",
      "metadata": {
        "id": "mi7UsNvvRsux"
      },
      "source": [
        "### We need to define a task-specific way of computing relevant metrics:"
      ]
    },
    {
      "cell_type": "code",
      "execution_count": 40,
      "metadata": {
        "id": "2ww35P4MRsux"
      },
      "outputs": [],
      "source": [
        "import numpy as np\n",
        "from scipy.special import softmax\n",
        "from sklearn.metrics import (\n",
        "    auc,\n",
        "    precision_recall_curve,\n",
        "    roc_auc_score,\n",
        "    precision_score,\n",
        "    recall_score,\n",
        "    f1_score,\n",
        "    confusion_matrix,\n",
        "    matthews_corrcoef,\n",
        ")\n",
        "\n",
        "def calc_classification_metrics(p: EvalPrediction):\n",
        "  predictions = p.predictions[0]\n",
        "  pred_labels = np.argmax(predictions, axis=1)\n",
        "  pred_scores = softmax(predictions, axis=1)[:, 1]\n",
        "  labels = p.label_ids\n",
        "  print(np.unique(labels))\n",
        "  # if len(np.unique(labels)) == 2:  # binary classification\n",
        "  if len(unique_labels) == 2:  # binary classification\n",
        "      roc_auc_pred_score = roc_auc_score(labels, pred_scores)\n",
        "      precisions, recalls, thresholds = precision_recall_curve(labels, pred_scores)\n",
        "      fscore = (2 * precisions * recalls) / (precisions + recalls)\n",
        "      fscore[np.isnan(fscore)] = 0\n",
        "      ix = np.argmax(fscore)\n",
        "      threshold = thresholds[ix].item()\n",
        "      pr_auc = auc(recalls, precisions)\n",
        "      tn, fp, fn, tp = confusion_matrix(labels, pred_labels, labels=[0, 1]).ravel()\n",
        "      result = {\n",
        "              'roc_auc': roc_auc_pred_score,\n",
        "              'threshold': threshold,\n",
        "              'pr_auc': pr_auc,\n",
        "              'recall': recalls[ix].item(),\n",
        "              'precision': precisions[ix].item(), 'f1': fscore[ix].item(),\n",
        "              'tn': tn.item(), 'fp': fp.item(), 'fn': fn.item(), 'tp': tp.item()\n",
        "            }\n",
        "  else:\n",
        "      acc = (pred_labels == labels).mean()\n",
        "      roc_auc_pred_score = roc_auc_score(labels, pred_scores, average='weighted')\n",
        "      prec_score = precision_score(labels, pred_labels, average='weighted')\n",
        "      rec_score = recall_score(labels, pred_labels, average='weighted')\n",
        "\n",
        "      f1 = f1_score(y_true=labels, y_pred=pred_labels, average='weighted')\n",
        "      result = {\n",
        "          \"acc\": acc,\n",
        "          'roc_auc': roc_auc_pred_score,\n",
        "          'recall': rec_score,\n",
        "          'precision': prec_score,\n",
        "          \"f1\": f1,\n",
        "          \"acc_and_f1\": (acc + f1) / 2,\n",
        "          \"mcc\": matthews_corrcoef(labels, pred_labels)\n",
        "      }\n",
        "\n",
        "  return result"
      ]
    },
    {
      "cell_type": "code",
      "execution_count": 41,
      "metadata": {
        "id": "cFeF6HTsRsu1"
      },
      "outputs": [],
      "source": [
        "trainer = Trainer(\n",
        "    model=model,\n",
        "    args=training_args,\n",
        "    train_dataset=train_dataset,\n",
        "    eval_dataset=val_dataset,\n",
        "    compute_metrics=calc_classification_metrics,\n",
        ")"
      ]
    },
    {
      "cell_type": "markdown",
      "metadata": {
        "id": "LtWJoq6nRsvM"
      },
      "source": [
        "## Launching the training is as simple is doing trainer.train() 🤗"
      ]
    },
    {
      "cell_type": "code",
      "source": [
        "# memory footprint support libraries/code\n",
        "!ln -sf /opt/bin/nvidia-smi /usr/bin/nvidia-smi\n",
        "!pip install gputil\n",
        "!pip install psutil\n",
        "!pip install humanize\n",
        "\n",
        "import psutil\n",
        "import humanize\n",
        "import os\n",
        "import GPUtil as GPU\n",
        "import gc\n",
        "gc.collect()\n",
        "\n",
        "GPUs = GPU.getGPUs()\n",
        "# XXX: only one GPU on Colab and isn’t guaranteed\n",
        "gpu = GPUs[0]\n",
        "def printm():\n",
        "    process = psutil.Process(os.getpid())\n",
        "    print(\"Gen RAM Free: \" + humanize.naturalsize(psutil.virtual_memory().available), \" |     Proc size: \" + humanize.naturalsize(process.memory_info().rss))\n",
        "    print(\"GPU RAM Free: {0:.0f}MB | Used: {1:.0f}MB | Util {2:3.0f}% | Total     {3:.0f}MB\".format(gpu.memoryFree, gpu.memoryUsed, gpu.memoryUtil*100, gpu.memoryTotal))\n",
        "printm()"
      ],
      "metadata": {
        "colab": {
          "base_uri": "https://localhost:8080/"
        },
        "id": "D0yqAEj0Wdwu",
        "outputId": "7a6671a2-8651-4e51-f7a4-6629cd6c8115"
      },
      "execution_count": 20,
      "outputs": [
        {
          "output_type": "stream",
          "name": "stdout",
          "text": [
            "Collecting gputil\n",
            "  Downloading GPUtil-1.4.0.tar.gz (5.5 kB)\n",
            "  Preparing metadata (setup.py) ... \u001b[?25l\u001b[?25hdone\n",
            "Building wheels for collected packages: gputil\n",
            "  Building wheel for gputil (setup.py) ... \u001b[?25l\u001b[?25hdone\n",
            "  Created wheel for gputil: filename=GPUtil-1.4.0-py3-none-any.whl size=7394 sha256=42ced780eb16389d93b8d7881dcbe0746488cd3813cfb0a18f1db9252fa0079a\n",
            "  Stored in directory: /root/.cache/pip/wheels/a9/8a/bd/81082387151853ab8b6b3ef33426e98f5cbfebc3c397a9d4d0\n",
            "Successfully built gputil\n",
            "Installing collected packages: gputil\n",
            "Successfully installed gputil-1.4.0\n",
            "Requirement already satisfied: psutil in /usr/local/lib/python3.10/dist-packages (5.9.5)\n",
            "Requirement already satisfied: humanize in /usr/local/lib/python3.10/dist-packages (4.7.0)\n",
            "Gen RAM Free: 47.4 GB  |     Proc size: 6.0 GB\n",
            "GPU RAM Free: 13748MB | Used: 1353MB | Util   9% | Total     15360MB\n"
          ]
        }
      ]
    },
    {
      "cell_type": "code",
      "execution_count": 42,
      "metadata": {
        "id": "fHtN4yhdRsvN",
        "colab": {
          "base_uri": "https://localhost:8080/",
          "height": 379
        },
        "outputId": "0059897d-8519-4071-e694-202c8e6e824b"
      },
      "outputs": [
        {
          "output_type": "stream",
          "name": "stderr",
          "text": [
            "/usr/local/lib/python3.10/dist-packages/transformers/optimization.py:411: FutureWarning: This implementation of AdamW is deprecated and will be removed in a future version. Use the PyTorch implementation torch.optim.AdamW instead, or set `no_deprecation_warning=True` to disable this warning\n",
            "  warnings.warn(\n"
          ]
        },
        {
          "output_type": "display_data",
          "data": {
            "text/plain": [
              "<IPython.core.display.HTML object>"
            ],
            "text/html": [
              "\n",
              "    <div>\n",
              "      \n",
              "      <progress value='500' max='500' style='width:300px; height:20px; vertical-align: middle;'></progress>\n",
              "      [500/500 07:28, Epoch 1/1]\n",
              "    </div>\n",
              "    <table border=\"1\" class=\"dataframe\">\n",
              "  <thead>\n",
              " <tr style=\"text-align: left;\">\n",
              "      <th>Step</th>\n",
              "      <th>Training Loss</th>\n",
              "      <th>Validation Loss</th>\n",
              "      <th>Acc</th>\n",
              "      <th>Roc Auc</th>\n",
              "      <th>Recall</th>\n",
              "      <th>Precision</th>\n",
              "      <th>F1</th>\n",
              "      <th>Acc And F1</th>\n",
              "      <th>Mcc</th>\n",
              "    </tr>\n",
              "  </thead>\n",
              "  <tbody>\n",
              "    <tr>\n",
              "      <td>250</td>\n",
              "      <td>0.123400</td>\n",
              "      <td>0.043735</td>\n",
              "      <td>0.996498</td>\n",
              "      <td>0.429145</td>\n",
              "      <td>0.996498</td>\n",
              "      <td>0.993009</td>\n",
              "      <td>0.994750</td>\n",
              "      <td>0.995624</td>\n",
              "      <td>0.000000</td>\n",
              "    </tr>\n",
              "    <tr>\n",
              "      <td>500</td>\n",
              "      <td>0.000000</td>\n",
              "      <td>0.043730</td>\n",
              "      <td>0.996498</td>\n",
              "      <td>0.518503</td>\n",
              "      <td>0.996498</td>\n",
              "      <td>0.993009</td>\n",
              "      <td>0.994750</td>\n",
              "      <td>0.995624</td>\n",
              "      <td>0.000000</td>\n",
              "    </tr>\n",
              "  </tbody>\n",
              "</table><p>"
            ]
          },
          "metadata": {}
        },
        {
          "output_type": "stream",
          "name": "stdout",
          "text": [
            "[0 2]\n"
          ]
        },
        {
          "output_type": "stream",
          "name": "stderr",
          "text": [
            "/usr/local/lib/python3.10/dist-packages/sklearn/metrics/_classification.py:1318: UndefinedMetricWarning: Precision is ill-defined and being set to 0.0 in labels with no predicted samples. Use `zero_division` parameter to control this behavior.\n",
            "  _warn_prf(average, modifier, msg_start, len(result))\n"
          ]
        },
        {
          "output_type": "stream",
          "name": "stdout",
          "text": [
            "[0 2]\n"
          ]
        },
        {
          "output_type": "stream",
          "name": "stderr",
          "text": [
            "/usr/local/lib/python3.10/dist-packages/sklearn/metrics/_classification.py:1318: UndefinedMetricWarning: Precision is ill-defined and being set to 0.0 in labels with no predicted samples. Use `zero_division` parameter to control this behavior.\n",
            "  _warn_prf(average, modifier, msg_start, len(result))\n"
          ]
        },
        {
          "output_type": "stream",
          "name": "stdout",
          "text": [
            "CPU times: user 5min 41s, sys: 5.64 s, total: 5min 47s\n",
            "Wall time: 7min 29s\n"
          ]
        },
        {
          "output_type": "execute_result",
          "data": {
            "text/plain": [
              "TrainOutput(global_step=500, training_loss=0.014554292136339193, metrics={'train_runtime': 449.2191, 'train_samples_per_second': 4.45, 'train_steps_per_second': 1.113, 'total_flos': 525973166785536.0, 'train_loss': 0.014554292136339193, 'epoch': 1.0})"
            ]
          },
          "metadata": {},
          "execution_count": 42
        }
      ],
      "source": [
        "%%time\n",
        "trainer.train()\n",
        "trainer.save_model()"
      ]
    },
    {
      "cell_type": "code",
      "source": [
        "from pprint import pformat\n",
        "\n",
        "# Evaluation\n",
        "eval_results = {}\n",
        "if training_args.do_eval:\n",
        "    eval_result = trainer.evaluate(eval_dataset=val_dataset)\n",
        "    print(pformat(eval_result, indent=4))\n",
        "\n",
        "    output_eval_file = os.path.join(\n",
        "        training_args.output_dir, f\"eval_metric_results_classification_fold_0.txt\"\n",
        "    )\n",
        "    if trainer.is_world_process_zero():\n",
        "        with open(output_eval_file, \"w\") as writer:\n",
        "            print(\"***** Eval results classification *****\")\n",
        "            for key, value in eval_result.items():\n",
        "                print(\"  %s = %s\", key, value)\n",
        "                writer.write(\"%s = %s\\n\" % (key, value))\n",
        "\n",
        "    eval_results.update(eval_result)"
      ],
      "metadata": {
        "colab": {
          "base_uri": "https://localhost:8080/",
          "height": 571
        },
        "id": "ydHc7UUJwEOu",
        "outputId": "63230bfa-304c-4522-e723-9aa6c053b48c"
      },
      "execution_count": 50,
      "outputs": [
        {
          "output_type": "display_data",
          "data": {
            "text/plain": [
              "<IPython.core.display.HTML object>"
            ],
            "text/html": [
              "\n",
              "    <div>\n",
              "      \n",
              "      <progress value='776' max='250' style='width:300px; height:20px; vertical-align: middle;'></progress>\n",
              "      [250/250 14:11]\n",
              "    </div>\n",
              "    "
            ]
          },
          "metadata": {}
        },
        {
          "output_type": "stream",
          "name": "stdout",
          "text": [
            "[0 2]\n",
            "{   'epoch': 1.0,\n",
            "    'eval_acc': 0.9964982491245623,\n",
            "    'eval_acc_and_f1': 0.9956243468765202,\n",
            "    'eval_f1': 0.9947504446284782,\n",
            "    'eval_loss': 0.04372965916991234,\n",
            "    'eval_mcc': 0.0,\n",
            "    'eval_precision': 0.9930087605083183,\n",
            "    'eval_recall': 0.9964982491245623,\n",
            "    'eval_roc_auc': 0.5185025817555938,\n",
            "    'eval_runtime': 99.5575,\n",
            "    'eval_samples_per_second': 20.079,\n",
            "    'eval_steps_per_second': 2.511}\n",
            "***** Eval results classification *****\n",
            "  %s = %s eval_loss 0.04372965916991234\n",
            "  %s = %s eval_acc 0.9964982491245623\n",
            "  %s = %s eval_roc_auc 0.5185025817555938\n",
            "  %s = %s eval_recall 0.9964982491245623\n",
            "  %s = %s eval_precision 0.9930087605083183\n",
            "  %s = %s eval_f1 0.9947504446284782\n",
            "  %s = %s eval_acc_and_f1 0.9956243468765202\n",
            "  %s = %s eval_mcc 0.0\n",
            "  %s = %s eval_runtime 99.5575\n",
            "  %s = %s eval_samples_per_second 20.079\n",
            "  %s = %s eval_steps_per_second 2.511\n",
            "  %s = %s epoch 1.0\n"
          ]
        },
        {
          "output_type": "stream",
          "name": "stderr",
          "text": [
            "/usr/local/lib/python3.10/dist-packages/sklearn/metrics/_classification.py:1318: UndefinedMetricWarning: Precision is ill-defined and being set to 0.0 in labels with no predicted samples. Use `zero_division` parameter to control this behavior.\n",
            "  _warn_prf(average, modifier, msg_start, len(result))\n"
          ]
        }
      ]
    },
    {
      "cell_type": "code",
      "source": [
        "from pprint import pformat\n",
        "\n",
        "logging.info(\"*** Test ***\")\n",
        "\n",
        "predictions = trainer.predict(test_dataset=test_dataset).predictions[0]\n",
        "output_test_file = os.path.join(\n",
        "    training_args.output_dir, f\"test_results_classification_fold_0.txt\"\n",
        ")\n",
        "eval_result = trainer.evaluate(eval_dataset=test_dataset)\n",
        "print(pformat(eval_result, indent=4))\n",
        "if trainer.is_world_process_zero():\n",
        "    with open(output_test_file, \"w\") as writer:\n",
        "        print(\"***** Test results classification *****\")\n",
        "        writer.write(\"index\\tprediction\\n\")\n",
        "        predictions = np.argmax(predictions, axis=1)\n",
        "        for index, item in enumerate(predictions):\n",
        "          item = test_dataset.get_labels()[item]\n",
        "          writer.write(\"%d\\t%s\\n\" % (index, item))\n",
        "    output_test_file = os.path.join(\n",
        "        training_args.output_dir,\n",
        "        f\"test_metric_results_classification_fold_0.txt\",\n",
        "    )\n",
        "    with open(output_test_file, \"w\") as writer:\n",
        "        print(\"***** Test results classification *****\")\n",
        "        for key, value in eval_result.items():\n",
        "            print(\"  %s = %s\", key, value)\n",
        "            writer.write(\"%s = %s\\n\" % (key, value))\n",
        "    eval_results.update(eval_result)\n"
      ],
      "metadata": {
        "colab": {
          "base_uri": "https://localhost:8080/",
          "height": 645
        },
        "id": "GWIGkAk8xN2t",
        "outputId": "bafbda92-cdf9-4ebf-c135-023a2e095dad"
      },
      "execution_count": 53,
      "outputs": [
        {
          "output_type": "display_data",
          "data": {
            "text/plain": [
              "<IPython.core.display.HTML object>"
            ],
            "text/html": []
          },
          "metadata": {}
        },
        {
          "output_type": "stream",
          "name": "stdout",
          "text": [
            "[0 2]\n"
          ]
        },
        {
          "output_type": "stream",
          "name": "stderr",
          "text": [
            "/usr/local/lib/python3.10/dist-packages/sklearn/metrics/_classification.py:1318: UndefinedMetricWarning: Precision is ill-defined and being set to 0.0 in labels with no predicted samples. Use `zero_division` parameter to control this behavior.\n",
            "  _warn_prf(average, modifier, msg_start, len(result))\n"
          ]
        },
        {
          "output_type": "display_data",
          "data": {
            "text/plain": [
              "<IPython.core.display.HTML object>"
            ],
            "text/html": [
              "\n",
              "    <div>\n",
              "      \n",
              "      <progress value='250' max='250' style='width:300px; height:20px; vertical-align: middle;'></progress>\n",
              "      [250/250 01:29]\n",
              "    </div>\n",
              "    "
            ]
          },
          "metadata": {}
        },
        {
          "output_type": "stream",
          "name": "stdout",
          "text": [
            "[0 2]\n",
            "{   'epoch': 1.0,\n",
            "    'eval_acc': 0.9979989994997499,\n",
            "    'eval_acc_and_f1': 0.9974992503763148,\n",
            "    'eval_f1': 0.9969995012528797,\n",
            "    'eval_loss': 0.02499542199075222,\n",
            "    'eval_mcc': 0.0,\n",
            "    'eval_precision': 0.9960020030025019,\n",
            "    'eval_recall': 0.9979989994997499,\n",
            "    'eval_roc_auc': 0.04855889724310776,\n",
            "    'eval_runtime': 89.988,\n",
            "    'eval_samples_per_second': 22.214,\n",
            "    'eval_steps_per_second': 2.778}\n",
            "***** Test results classification *****\n",
            "***** Test results classification *****\n",
            "  %s = %s eval_loss 0.02499542199075222\n",
            "  %s = %s eval_acc 0.9979989994997499\n",
            "  %s = %s eval_roc_auc 0.04855889724310776\n",
            "  %s = %s eval_recall 0.9979989994997499\n",
            "  %s = %s eval_precision 0.9960020030025019\n",
            "  %s = %s eval_f1 0.9969995012528797\n",
            "  %s = %s eval_acc_and_f1 0.9974992503763148\n",
            "  %s = %s eval_mcc 0.0\n",
            "  %s = %s eval_runtime 89.988\n",
            "  %s = %s eval_samples_per_second 22.214\n",
            "  %s = %s eval_steps_per_second 2.778\n",
            "  %s = %s epoch 1.0\n"
          ]
        },
        {
          "output_type": "stream",
          "name": "stderr",
          "text": [
            "/usr/local/lib/python3.10/dist-packages/sklearn/metrics/_classification.py:1318: UndefinedMetricWarning: Precision is ill-defined and being set to 0.0 in labels with no predicted samples. Use `zero_division` parameter to control this behavior.\n",
            "  _warn_prf(average, modifier, msg_start, len(result))\n"
          ]
        }
      ]
    },
    {
      "cell_type": "code",
      "source": [
        "del model\n",
        "del config\n",
        "del tabular_config\n",
        "del trainer\n",
        "torch.cuda.empty_cache()\n"
      ],
      "metadata": {
        "id": "Q0-p1IpQzPrA"
      },
      "execution_count": null,
      "outputs": []
    },
    {
      "cell_type": "markdown",
      "metadata": {
        "id": "4-NkufyHRsve"
      },
      "source": [
        "### Check that our training was successful using TensorBoard"
      ]
    },
    {
      "cell_type": "code",
      "execution_count": 43,
      "metadata": {
        "id": "rYE98-OKRsvf",
        "colab": {
          "base_uri": "https://localhost:8080/"
        },
        "outputId": "1786f0b5-ecc2-4901-ae54-20814d8119ab"
      },
      "outputs": [
        {
          "output_type": "stream",
          "name": "stdout",
          "text": [
            "The tensorboard extension is already loaded. To reload it, use:\n",
            "  %reload_ext tensorboard\n"
          ]
        }
      ],
      "source": [
        "# Load the TensorBoard notebook extension\n",
        "%load_ext tensorboard"
      ]
    },
    {
      "cell_type": "code",
      "execution_count": null,
      "metadata": {
        "id": "dFTwBNQARsvm"
      },
      "outputs": [],
      "source": [
        "%tensorboard --logdir ./logs/runs --port=6006"
      ]
    }
  ],
  "metadata": {
    "accelerator": "GPU",
    "colab": {
      "provenance": [],
      "machine_shape": "hm",
      "gpuType": "T4"
    },
    "kernelspec": {
      "display_name": "Python 3",
      "name": "python3"
    },
    "language_info": {
      "codemirror_mode": {
        "name": "ipython",
        "version": 3
      },
      "file_extension": ".py",
      "mimetype": "text/x-python",
      "name": "python",
      "nbconvert_exporter": "python",
      "pygments_lexer": "ipython3",
      "version": "3.7.3"
    },
    "widgets": {
      "application/vnd.jupyter.widget-state+json": {
        "c14f095b3f6f42a8847bcd7fe39d58e8": {
          "model_module": "@jupyter-widgets/controls",
          "model_name": "HBoxModel",
          "model_module_version": "1.5.0",
          "state": {
            "_dom_classes": [],
            "_model_module": "@jupyter-widgets/controls",
            "_model_module_version": "1.5.0",
            "_model_name": "HBoxModel",
            "_view_count": null,
            "_view_module": "@jupyter-widgets/controls",
            "_view_module_version": "1.5.0",
            "_view_name": "HBoxView",
            "box_style": "",
            "children": [
              "IPY_MODEL_f7959a2e53654e0383e9c4d822b6669d",
              "IPY_MODEL_3e7e1018fd7c4b2ca6ba505678d3dd40",
              "IPY_MODEL_a57f3ae09a5b4171ace78abf1c4ce7a2"
            ],
            "layout": "IPY_MODEL_7fbdb776963c444d9d4133111b778113"
          }
        },
        "f7959a2e53654e0383e9c4d822b6669d": {
          "model_module": "@jupyter-widgets/controls",
          "model_name": "HTMLModel",
          "model_module_version": "1.5.0",
          "state": {
            "_dom_classes": [],
            "_model_module": "@jupyter-widgets/controls",
            "_model_module_version": "1.5.0",
            "_model_name": "HTMLModel",
            "_view_count": null,
            "_view_module": "@jupyter-widgets/controls",
            "_view_module_version": "1.5.0",
            "_view_name": "HTMLView",
            "description": "",
            "description_tooltip": null,
            "layout": "IPY_MODEL_04d904aa80934c94a44aded6dd533076",
            "placeholder": "​",
            "style": "IPY_MODEL_7901a437b9dc4e4da61c12d1959e571b",
            "value": "Downloading (…)okenizer_config.json: 100%"
          }
        },
        "3e7e1018fd7c4b2ca6ba505678d3dd40": {
          "model_module": "@jupyter-widgets/controls",
          "model_name": "FloatProgressModel",
          "model_module_version": "1.5.0",
          "state": {
            "_dom_classes": [],
            "_model_module": "@jupyter-widgets/controls",
            "_model_module_version": "1.5.0",
            "_model_name": "FloatProgressModel",
            "_view_count": null,
            "_view_module": "@jupyter-widgets/controls",
            "_view_module_version": "1.5.0",
            "_view_name": "ProgressView",
            "bar_style": "success",
            "description": "",
            "description_tooltip": null,
            "layout": "IPY_MODEL_aadc6f95e70d415db2ff300f85a7678c",
            "max": 28,
            "min": 0,
            "orientation": "horizontal",
            "style": "IPY_MODEL_6bed19029973443c98558e5773d0f2a8",
            "value": 28
          }
        },
        "a57f3ae09a5b4171ace78abf1c4ce7a2": {
          "model_module": "@jupyter-widgets/controls",
          "model_name": "HTMLModel",
          "model_module_version": "1.5.0",
          "state": {
            "_dom_classes": [],
            "_model_module": "@jupyter-widgets/controls",
            "_model_module_version": "1.5.0",
            "_model_name": "HTMLModel",
            "_view_count": null,
            "_view_module": "@jupyter-widgets/controls",
            "_view_module_version": "1.5.0",
            "_view_name": "HTMLView",
            "description": "",
            "description_tooltip": null,
            "layout": "IPY_MODEL_c664ae4377e84e68a347148a8c80a8b2",
            "placeholder": "​",
            "style": "IPY_MODEL_88fab82c72834989ac5e79effb65dd48",
            "value": " 28.0/28.0 [00:00&lt;00:00, 2.20kB/s]"
          }
        },
        "7fbdb776963c444d9d4133111b778113": {
          "model_module": "@jupyter-widgets/base",
          "model_name": "LayoutModel",
          "model_module_version": "1.2.0",
          "state": {
            "_model_module": "@jupyter-widgets/base",
            "_model_module_version": "1.2.0",
            "_model_name": "LayoutModel",
            "_view_count": null,
            "_view_module": "@jupyter-widgets/base",
            "_view_module_version": "1.2.0",
            "_view_name": "LayoutView",
            "align_content": null,
            "align_items": null,
            "align_self": null,
            "border": null,
            "bottom": null,
            "display": null,
            "flex": null,
            "flex_flow": null,
            "grid_area": null,
            "grid_auto_columns": null,
            "grid_auto_flow": null,
            "grid_auto_rows": null,
            "grid_column": null,
            "grid_gap": null,
            "grid_row": null,
            "grid_template_areas": null,
            "grid_template_columns": null,
            "grid_template_rows": null,
            "height": null,
            "justify_content": null,
            "justify_items": null,
            "left": null,
            "margin": null,
            "max_height": null,
            "max_width": null,
            "min_height": null,
            "min_width": null,
            "object_fit": null,
            "object_position": null,
            "order": null,
            "overflow": null,
            "overflow_x": null,
            "overflow_y": null,
            "padding": null,
            "right": null,
            "top": null,
            "visibility": null,
            "width": null
          }
        },
        "04d904aa80934c94a44aded6dd533076": {
          "model_module": "@jupyter-widgets/base",
          "model_name": "LayoutModel",
          "model_module_version": "1.2.0",
          "state": {
            "_model_module": "@jupyter-widgets/base",
            "_model_module_version": "1.2.0",
            "_model_name": "LayoutModel",
            "_view_count": null,
            "_view_module": "@jupyter-widgets/base",
            "_view_module_version": "1.2.0",
            "_view_name": "LayoutView",
            "align_content": null,
            "align_items": null,
            "align_self": null,
            "border": null,
            "bottom": null,
            "display": null,
            "flex": null,
            "flex_flow": null,
            "grid_area": null,
            "grid_auto_columns": null,
            "grid_auto_flow": null,
            "grid_auto_rows": null,
            "grid_column": null,
            "grid_gap": null,
            "grid_row": null,
            "grid_template_areas": null,
            "grid_template_columns": null,
            "grid_template_rows": null,
            "height": null,
            "justify_content": null,
            "justify_items": null,
            "left": null,
            "margin": null,
            "max_height": null,
            "max_width": null,
            "min_height": null,
            "min_width": null,
            "object_fit": null,
            "object_position": null,
            "order": null,
            "overflow": null,
            "overflow_x": null,
            "overflow_y": null,
            "padding": null,
            "right": null,
            "top": null,
            "visibility": null,
            "width": null
          }
        },
        "7901a437b9dc4e4da61c12d1959e571b": {
          "model_module": "@jupyter-widgets/controls",
          "model_name": "DescriptionStyleModel",
          "model_module_version": "1.5.0",
          "state": {
            "_model_module": "@jupyter-widgets/controls",
            "_model_module_version": "1.5.0",
            "_model_name": "DescriptionStyleModel",
            "_view_count": null,
            "_view_module": "@jupyter-widgets/base",
            "_view_module_version": "1.2.0",
            "_view_name": "StyleView",
            "description_width": ""
          }
        },
        "aadc6f95e70d415db2ff300f85a7678c": {
          "model_module": "@jupyter-widgets/base",
          "model_name": "LayoutModel",
          "model_module_version": "1.2.0",
          "state": {
            "_model_module": "@jupyter-widgets/base",
            "_model_module_version": "1.2.0",
            "_model_name": "LayoutModel",
            "_view_count": null,
            "_view_module": "@jupyter-widgets/base",
            "_view_module_version": "1.2.0",
            "_view_name": "LayoutView",
            "align_content": null,
            "align_items": null,
            "align_self": null,
            "border": null,
            "bottom": null,
            "display": null,
            "flex": null,
            "flex_flow": null,
            "grid_area": null,
            "grid_auto_columns": null,
            "grid_auto_flow": null,
            "grid_auto_rows": null,
            "grid_column": null,
            "grid_gap": null,
            "grid_row": null,
            "grid_template_areas": null,
            "grid_template_columns": null,
            "grid_template_rows": null,
            "height": null,
            "justify_content": null,
            "justify_items": null,
            "left": null,
            "margin": null,
            "max_height": null,
            "max_width": null,
            "min_height": null,
            "min_width": null,
            "object_fit": null,
            "object_position": null,
            "order": null,
            "overflow": null,
            "overflow_x": null,
            "overflow_y": null,
            "padding": null,
            "right": null,
            "top": null,
            "visibility": null,
            "width": null
          }
        },
        "6bed19029973443c98558e5773d0f2a8": {
          "model_module": "@jupyter-widgets/controls",
          "model_name": "ProgressStyleModel",
          "model_module_version": "1.5.0",
          "state": {
            "_model_module": "@jupyter-widgets/controls",
            "_model_module_version": "1.5.0",
            "_model_name": "ProgressStyleModel",
            "_view_count": null,
            "_view_module": "@jupyter-widgets/base",
            "_view_module_version": "1.2.0",
            "_view_name": "StyleView",
            "bar_color": null,
            "description_width": ""
          }
        },
        "c664ae4377e84e68a347148a8c80a8b2": {
          "model_module": "@jupyter-widgets/base",
          "model_name": "LayoutModel",
          "model_module_version": "1.2.0",
          "state": {
            "_model_module": "@jupyter-widgets/base",
            "_model_module_version": "1.2.0",
            "_model_name": "LayoutModel",
            "_view_count": null,
            "_view_module": "@jupyter-widgets/base",
            "_view_module_version": "1.2.0",
            "_view_name": "LayoutView",
            "align_content": null,
            "align_items": null,
            "align_self": null,
            "border": null,
            "bottom": null,
            "display": null,
            "flex": null,
            "flex_flow": null,
            "grid_area": null,
            "grid_auto_columns": null,
            "grid_auto_flow": null,
            "grid_auto_rows": null,
            "grid_column": null,
            "grid_gap": null,
            "grid_row": null,
            "grid_template_areas": null,
            "grid_template_columns": null,
            "grid_template_rows": null,
            "height": null,
            "justify_content": null,
            "justify_items": null,
            "left": null,
            "margin": null,
            "max_height": null,
            "max_width": null,
            "min_height": null,
            "min_width": null,
            "object_fit": null,
            "object_position": null,
            "order": null,
            "overflow": null,
            "overflow_x": null,
            "overflow_y": null,
            "padding": null,
            "right": null,
            "top": null,
            "visibility": null,
            "width": null
          }
        },
        "88fab82c72834989ac5e79effb65dd48": {
          "model_module": "@jupyter-widgets/controls",
          "model_name": "DescriptionStyleModel",
          "model_module_version": "1.5.0",
          "state": {
            "_model_module": "@jupyter-widgets/controls",
            "_model_module_version": "1.5.0",
            "_model_name": "DescriptionStyleModel",
            "_view_count": null,
            "_view_module": "@jupyter-widgets/base",
            "_view_module_version": "1.2.0",
            "_view_name": "StyleView",
            "description_width": ""
          }
        },
        "3647001e2f4d48b0bb3e148c195a341c": {
          "model_module": "@jupyter-widgets/controls",
          "model_name": "HBoxModel",
          "model_module_version": "1.5.0",
          "state": {
            "_dom_classes": [],
            "_model_module": "@jupyter-widgets/controls",
            "_model_module_version": "1.5.0",
            "_model_name": "HBoxModel",
            "_view_count": null,
            "_view_module": "@jupyter-widgets/controls",
            "_view_module_version": "1.5.0",
            "_view_name": "HBoxView",
            "box_style": "",
            "children": [
              "IPY_MODEL_f0c3ed9b36b947eca2d4443c658b97cb",
              "IPY_MODEL_d1bac76aa26549a4bc925c4eda4d9234",
              "IPY_MODEL_cb3e1d270ff64bddbb39193bf32ade16"
            ],
            "layout": "IPY_MODEL_186d5b2be90a46ddaca03811c670d3e7"
          }
        },
        "f0c3ed9b36b947eca2d4443c658b97cb": {
          "model_module": "@jupyter-widgets/controls",
          "model_name": "HTMLModel",
          "model_module_version": "1.5.0",
          "state": {
            "_dom_classes": [],
            "_model_module": "@jupyter-widgets/controls",
            "_model_module_version": "1.5.0",
            "_model_name": "HTMLModel",
            "_view_count": null,
            "_view_module": "@jupyter-widgets/controls",
            "_view_module_version": "1.5.0",
            "_view_name": "HTMLView",
            "description": "",
            "description_tooltip": null,
            "layout": "IPY_MODEL_49043cc5ad3a4dc3b74c38b3922fa83c",
            "placeholder": "​",
            "style": "IPY_MODEL_6de1d2e106f2457fab2b900452c198f6",
            "value": "Downloading (…)lve/main/config.json: 100%"
          }
        },
        "d1bac76aa26549a4bc925c4eda4d9234": {
          "model_module": "@jupyter-widgets/controls",
          "model_name": "FloatProgressModel",
          "model_module_version": "1.5.0",
          "state": {
            "_dom_classes": [],
            "_model_module": "@jupyter-widgets/controls",
            "_model_module_version": "1.5.0",
            "_model_name": "FloatProgressModel",
            "_view_count": null,
            "_view_module": "@jupyter-widgets/controls",
            "_view_module_version": "1.5.0",
            "_view_name": "ProgressView",
            "bar_style": "success",
            "description": "",
            "description_tooltip": null,
            "layout": "IPY_MODEL_3e21d071cc6640d8b9254a23427bd6b6",
            "max": 570,
            "min": 0,
            "orientation": "horizontal",
            "style": "IPY_MODEL_8e7c4e94237f42149daef3554d697ccf",
            "value": 570
          }
        },
        "cb3e1d270ff64bddbb39193bf32ade16": {
          "model_module": "@jupyter-widgets/controls",
          "model_name": "HTMLModel",
          "model_module_version": "1.5.0",
          "state": {
            "_dom_classes": [],
            "_model_module": "@jupyter-widgets/controls",
            "_model_module_version": "1.5.0",
            "_model_name": "HTMLModel",
            "_view_count": null,
            "_view_module": "@jupyter-widgets/controls",
            "_view_module_version": "1.5.0",
            "_view_name": "HTMLView",
            "description": "",
            "description_tooltip": null,
            "layout": "IPY_MODEL_2921de751f3e4f4b97162bd13ad75745",
            "placeholder": "​",
            "style": "IPY_MODEL_4c19b204621e4f179b84e3e6bb9d343e",
            "value": " 570/570 [00:00&lt;00:00, 50.9kB/s]"
          }
        },
        "186d5b2be90a46ddaca03811c670d3e7": {
          "model_module": "@jupyter-widgets/base",
          "model_name": "LayoutModel",
          "model_module_version": "1.2.0",
          "state": {
            "_model_module": "@jupyter-widgets/base",
            "_model_module_version": "1.2.0",
            "_model_name": "LayoutModel",
            "_view_count": null,
            "_view_module": "@jupyter-widgets/base",
            "_view_module_version": "1.2.0",
            "_view_name": "LayoutView",
            "align_content": null,
            "align_items": null,
            "align_self": null,
            "border": null,
            "bottom": null,
            "display": null,
            "flex": null,
            "flex_flow": null,
            "grid_area": null,
            "grid_auto_columns": null,
            "grid_auto_flow": null,
            "grid_auto_rows": null,
            "grid_column": null,
            "grid_gap": null,
            "grid_row": null,
            "grid_template_areas": null,
            "grid_template_columns": null,
            "grid_template_rows": null,
            "height": null,
            "justify_content": null,
            "justify_items": null,
            "left": null,
            "margin": null,
            "max_height": null,
            "max_width": null,
            "min_height": null,
            "min_width": null,
            "object_fit": null,
            "object_position": null,
            "order": null,
            "overflow": null,
            "overflow_x": null,
            "overflow_y": null,
            "padding": null,
            "right": null,
            "top": null,
            "visibility": null,
            "width": null
          }
        },
        "49043cc5ad3a4dc3b74c38b3922fa83c": {
          "model_module": "@jupyter-widgets/base",
          "model_name": "LayoutModel",
          "model_module_version": "1.2.0",
          "state": {
            "_model_module": "@jupyter-widgets/base",
            "_model_module_version": "1.2.0",
            "_model_name": "LayoutModel",
            "_view_count": null,
            "_view_module": "@jupyter-widgets/base",
            "_view_module_version": "1.2.0",
            "_view_name": "LayoutView",
            "align_content": null,
            "align_items": null,
            "align_self": null,
            "border": null,
            "bottom": null,
            "display": null,
            "flex": null,
            "flex_flow": null,
            "grid_area": null,
            "grid_auto_columns": null,
            "grid_auto_flow": null,
            "grid_auto_rows": null,
            "grid_column": null,
            "grid_gap": null,
            "grid_row": null,
            "grid_template_areas": null,
            "grid_template_columns": null,
            "grid_template_rows": null,
            "height": null,
            "justify_content": null,
            "justify_items": null,
            "left": null,
            "margin": null,
            "max_height": null,
            "max_width": null,
            "min_height": null,
            "min_width": null,
            "object_fit": null,
            "object_position": null,
            "order": null,
            "overflow": null,
            "overflow_x": null,
            "overflow_y": null,
            "padding": null,
            "right": null,
            "top": null,
            "visibility": null,
            "width": null
          }
        },
        "6de1d2e106f2457fab2b900452c198f6": {
          "model_module": "@jupyter-widgets/controls",
          "model_name": "DescriptionStyleModel",
          "model_module_version": "1.5.0",
          "state": {
            "_model_module": "@jupyter-widgets/controls",
            "_model_module_version": "1.5.0",
            "_model_name": "DescriptionStyleModel",
            "_view_count": null,
            "_view_module": "@jupyter-widgets/base",
            "_view_module_version": "1.2.0",
            "_view_name": "StyleView",
            "description_width": ""
          }
        },
        "3e21d071cc6640d8b9254a23427bd6b6": {
          "model_module": "@jupyter-widgets/base",
          "model_name": "LayoutModel",
          "model_module_version": "1.2.0",
          "state": {
            "_model_module": "@jupyter-widgets/base",
            "_model_module_version": "1.2.0",
            "_model_name": "LayoutModel",
            "_view_count": null,
            "_view_module": "@jupyter-widgets/base",
            "_view_module_version": "1.2.0",
            "_view_name": "LayoutView",
            "align_content": null,
            "align_items": null,
            "align_self": null,
            "border": null,
            "bottom": null,
            "display": null,
            "flex": null,
            "flex_flow": null,
            "grid_area": null,
            "grid_auto_columns": null,
            "grid_auto_flow": null,
            "grid_auto_rows": null,
            "grid_column": null,
            "grid_gap": null,
            "grid_row": null,
            "grid_template_areas": null,
            "grid_template_columns": null,
            "grid_template_rows": null,
            "height": null,
            "justify_content": null,
            "justify_items": null,
            "left": null,
            "margin": null,
            "max_height": null,
            "max_width": null,
            "min_height": null,
            "min_width": null,
            "object_fit": null,
            "object_position": null,
            "order": null,
            "overflow": null,
            "overflow_x": null,
            "overflow_y": null,
            "padding": null,
            "right": null,
            "top": null,
            "visibility": null,
            "width": null
          }
        },
        "8e7c4e94237f42149daef3554d697ccf": {
          "model_module": "@jupyter-widgets/controls",
          "model_name": "ProgressStyleModel",
          "model_module_version": "1.5.0",
          "state": {
            "_model_module": "@jupyter-widgets/controls",
            "_model_module_version": "1.5.0",
            "_model_name": "ProgressStyleModel",
            "_view_count": null,
            "_view_module": "@jupyter-widgets/base",
            "_view_module_version": "1.2.0",
            "_view_name": "StyleView",
            "bar_color": null,
            "description_width": ""
          }
        },
        "2921de751f3e4f4b97162bd13ad75745": {
          "model_module": "@jupyter-widgets/base",
          "model_name": "LayoutModel",
          "model_module_version": "1.2.0",
          "state": {
            "_model_module": "@jupyter-widgets/base",
            "_model_module_version": "1.2.0",
            "_model_name": "LayoutModel",
            "_view_count": null,
            "_view_module": "@jupyter-widgets/base",
            "_view_module_version": "1.2.0",
            "_view_name": "LayoutView",
            "align_content": null,
            "align_items": null,
            "align_self": null,
            "border": null,
            "bottom": null,
            "display": null,
            "flex": null,
            "flex_flow": null,
            "grid_area": null,
            "grid_auto_columns": null,
            "grid_auto_flow": null,
            "grid_auto_rows": null,
            "grid_column": null,
            "grid_gap": null,
            "grid_row": null,
            "grid_template_areas": null,
            "grid_template_columns": null,
            "grid_template_rows": null,
            "height": null,
            "justify_content": null,
            "justify_items": null,
            "left": null,
            "margin": null,
            "max_height": null,
            "max_width": null,
            "min_height": null,
            "min_width": null,
            "object_fit": null,
            "object_position": null,
            "order": null,
            "overflow": null,
            "overflow_x": null,
            "overflow_y": null,
            "padding": null,
            "right": null,
            "top": null,
            "visibility": null,
            "width": null
          }
        },
        "4c19b204621e4f179b84e3e6bb9d343e": {
          "model_module": "@jupyter-widgets/controls",
          "model_name": "DescriptionStyleModel",
          "model_module_version": "1.5.0",
          "state": {
            "_model_module": "@jupyter-widgets/controls",
            "_model_module_version": "1.5.0",
            "_model_name": "DescriptionStyleModel",
            "_view_count": null,
            "_view_module": "@jupyter-widgets/base",
            "_view_module_version": "1.2.0",
            "_view_name": "StyleView",
            "description_width": ""
          }
        },
        "3b8facfa8105485f8217789de772f385": {
          "model_module": "@jupyter-widgets/controls",
          "model_name": "HBoxModel",
          "model_module_version": "1.5.0",
          "state": {
            "_dom_classes": [],
            "_model_module": "@jupyter-widgets/controls",
            "_model_module_version": "1.5.0",
            "_model_name": "HBoxModel",
            "_view_count": null,
            "_view_module": "@jupyter-widgets/controls",
            "_view_module_version": "1.5.0",
            "_view_name": "HBoxView",
            "box_style": "",
            "children": [
              "IPY_MODEL_65f7227e9663464a9de740eab01e53be",
              "IPY_MODEL_ef7d2098c5954216bd24b450bb8b5c75",
              "IPY_MODEL_b8f73377e1984718a2f568fb7ad3b0e6"
            ],
            "layout": "IPY_MODEL_8917428d68d24432a5712082caaafa5f"
          }
        },
        "65f7227e9663464a9de740eab01e53be": {
          "model_module": "@jupyter-widgets/controls",
          "model_name": "HTMLModel",
          "model_module_version": "1.5.0",
          "state": {
            "_dom_classes": [],
            "_model_module": "@jupyter-widgets/controls",
            "_model_module_version": "1.5.0",
            "_model_name": "HTMLModel",
            "_view_count": null,
            "_view_module": "@jupyter-widgets/controls",
            "_view_module_version": "1.5.0",
            "_view_name": "HTMLView",
            "description": "",
            "description_tooltip": null,
            "layout": "IPY_MODEL_eb2d2a91ab6347f8bf7238b01e2e1e25",
            "placeholder": "​",
            "style": "IPY_MODEL_5184e2148bc44638830cb3d8b004c312",
            "value": "Downloading (…)solve/main/vocab.txt: 100%"
          }
        },
        "ef7d2098c5954216bd24b450bb8b5c75": {
          "model_module": "@jupyter-widgets/controls",
          "model_name": "FloatProgressModel",
          "model_module_version": "1.5.0",
          "state": {
            "_dom_classes": [],
            "_model_module": "@jupyter-widgets/controls",
            "_model_module_version": "1.5.0",
            "_model_name": "FloatProgressModel",
            "_view_count": null,
            "_view_module": "@jupyter-widgets/controls",
            "_view_module_version": "1.5.0",
            "_view_name": "ProgressView",
            "bar_style": "success",
            "description": "",
            "description_tooltip": null,
            "layout": "IPY_MODEL_2cae8909e5c0401da157503e6663f372",
            "max": 231508,
            "min": 0,
            "orientation": "horizontal",
            "style": "IPY_MODEL_4841fa528e0f475386e0b0866c46fbc4",
            "value": 231508
          }
        },
        "b8f73377e1984718a2f568fb7ad3b0e6": {
          "model_module": "@jupyter-widgets/controls",
          "model_name": "HTMLModel",
          "model_module_version": "1.5.0",
          "state": {
            "_dom_classes": [],
            "_model_module": "@jupyter-widgets/controls",
            "_model_module_version": "1.5.0",
            "_model_name": "HTMLModel",
            "_view_count": null,
            "_view_module": "@jupyter-widgets/controls",
            "_view_module_version": "1.5.0",
            "_view_name": "HTMLView",
            "description": "",
            "description_tooltip": null,
            "layout": "IPY_MODEL_c4a03103814a433a8b4375a024799029",
            "placeholder": "​",
            "style": "IPY_MODEL_a66266f3bed84a63874eab7869dba4c1",
            "value": " 232k/232k [00:00&lt;00:00, 15.2MB/s]"
          }
        },
        "8917428d68d24432a5712082caaafa5f": {
          "model_module": "@jupyter-widgets/base",
          "model_name": "LayoutModel",
          "model_module_version": "1.2.0",
          "state": {
            "_model_module": "@jupyter-widgets/base",
            "_model_module_version": "1.2.0",
            "_model_name": "LayoutModel",
            "_view_count": null,
            "_view_module": "@jupyter-widgets/base",
            "_view_module_version": "1.2.0",
            "_view_name": "LayoutView",
            "align_content": null,
            "align_items": null,
            "align_self": null,
            "border": null,
            "bottom": null,
            "display": null,
            "flex": null,
            "flex_flow": null,
            "grid_area": null,
            "grid_auto_columns": null,
            "grid_auto_flow": null,
            "grid_auto_rows": null,
            "grid_column": null,
            "grid_gap": null,
            "grid_row": null,
            "grid_template_areas": null,
            "grid_template_columns": null,
            "grid_template_rows": null,
            "height": null,
            "justify_content": null,
            "justify_items": null,
            "left": null,
            "margin": null,
            "max_height": null,
            "max_width": null,
            "min_height": null,
            "min_width": null,
            "object_fit": null,
            "object_position": null,
            "order": null,
            "overflow": null,
            "overflow_x": null,
            "overflow_y": null,
            "padding": null,
            "right": null,
            "top": null,
            "visibility": null,
            "width": null
          }
        },
        "eb2d2a91ab6347f8bf7238b01e2e1e25": {
          "model_module": "@jupyter-widgets/base",
          "model_name": "LayoutModel",
          "model_module_version": "1.2.0",
          "state": {
            "_model_module": "@jupyter-widgets/base",
            "_model_module_version": "1.2.0",
            "_model_name": "LayoutModel",
            "_view_count": null,
            "_view_module": "@jupyter-widgets/base",
            "_view_module_version": "1.2.0",
            "_view_name": "LayoutView",
            "align_content": null,
            "align_items": null,
            "align_self": null,
            "border": null,
            "bottom": null,
            "display": null,
            "flex": null,
            "flex_flow": null,
            "grid_area": null,
            "grid_auto_columns": null,
            "grid_auto_flow": null,
            "grid_auto_rows": null,
            "grid_column": null,
            "grid_gap": null,
            "grid_row": null,
            "grid_template_areas": null,
            "grid_template_columns": null,
            "grid_template_rows": null,
            "height": null,
            "justify_content": null,
            "justify_items": null,
            "left": null,
            "margin": null,
            "max_height": null,
            "max_width": null,
            "min_height": null,
            "min_width": null,
            "object_fit": null,
            "object_position": null,
            "order": null,
            "overflow": null,
            "overflow_x": null,
            "overflow_y": null,
            "padding": null,
            "right": null,
            "top": null,
            "visibility": null,
            "width": null
          }
        },
        "5184e2148bc44638830cb3d8b004c312": {
          "model_module": "@jupyter-widgets/controls",
          "model_name": "DescriptionStyleModel",
          "model_module_version": "1.5.0",
          "state": {
            "_model_module": "@jupyter-widgets/controls",
            "_model_module_version": "1.5.0",
            "_model_name": "DescriptionStyleModel",
            "_view_count": null,
            "_view_module": "@jupyter-widgets/base",
            "_view_module_version": "1.2.0",
            "_view_name": "StyleView",
            "description_width": ""
          }
        },
        "2cae8909e5c0401da157503e6663f372": {
          "model_module": "@jupyter-widgets/base",
          "model_name": "LayoutModel",
          "model_module_version": "1.2.0",
          "state": {
            "_model_module": "@jupyter-widgets/base",
            "_model_module_version": "1.2.0",
            "_model_name": "LayoutModel",
            "_view_count": null,
            "_view_module": "@jupyter-widgets/base",
            "_view_module_version": "1.2.0",
            "_view_name": "LayoutView",
            "align_content": null,
            "align_items": null,
            "align_self": null,
            "border": null,
            "bottom": null,
            "display": null,
            "flex": null,
            "flex_flow": null,
            "grid_area": null,
            "grid_auto_columns": null,
            "grid_auto_flow": null,
            "grid_auto_rows": null,
            "grid_column": null,
            "grid_gap": null,
            "grid_row": null,
            "grid_template_areas": null,
            "grid_template_columns": null,
            "grid_template_rows": null,
            "height": null,
            "justify_content": null,
            "justify_items": null,
            "left": null,
            "margin": null,
            "max_height": null,
            "max_width": null,
            "min_height": null,
            "min_width": null,
            "object_fit": null,
            "object_position": null,
            "order": null,
            "overflow": null,
            "overflow_x": null,
            "overflow_y": null,
            "padding": null,
            "right": null,
            "top": null,
            "visibility": null,
            "width": null
          }
        },
        "4841fa528e0f475386e0b0866c46fbc4": {
          "model_module": "@jupyter-widgets/controls",
          "model_name": "ProgressStyleModel",
          "model_module_version": "1.5.0",
          "state": {
            "_model_module": "@jupyter-widgets/controls",
            "_model_module_version": "1.5.0",
            "_model_name": "ProgressStyleModel",
            "_view_count": null,
            "_view_module": "@jupyter-widgets/base",
            "_view_module_version": "1.2.0",
            "_view_name": "StyleView",
            "bar_color": null,
            "description_width": ""
          }
        },
        "c4a03103814a433a8b4375a024799029": {
          "model_module": "@jupyter-widgets/base",
          "model_name": "LayoutModel",
          "model_module_version": "1.2.0",
          "state": {
            "_model_module": "@jupyter-widgets/base",
            "_model_module_version": "1.2.0",
            "_model_name": "LayoutModel",
            "_view_count": null,
            "_view_module": "@jupyter-widgets/base",
            "_view_module_version": "1.2.0",
            "_view_name": "LayoutView",
            "align_content": null,
            "align_items": null,
            "align_self": null,
            "border": null,
            "bottom": null,
            "display": null,
            "flex": null,
            "flex_flow": null,
            "grid_area": null,
            "grid_auto_columns": null,
            "grid_auto_flow": null,
            "grid_auto_rows": null,
            "grid_column": null,
            "grid_gap": null,
            "grid_row": null,
            "grid_template_areas": null,
            "grid_template_columns": null,
            "grid_template_rows": null,
            "height": null,
            "justify_content": null,
            "justify_items": null,
            "left": null,
            "margin": null,
            "max_height": null,
            "max_width": null,
            "min_height": null,
            "min_width": null,
            "object_fit": null,
            "object_position": null,
            "order": null,
            "overflow": null,
            "overflow_x": null,
            "overflow_y": null,
            "padding": null,
            "right": null,
            "top": null,
            "visibility": null,
            "width": null
          }
        },
        "a66266f3bed84a63874eab7869dba4c1": {
          "model_module": "@jupyter-widgets/controls",
          "model_name": "DescriptionStyleModel",
          "model_module_version": "1.5.0",
          "state": {
            "_model_module": "@jupyter-widgets/controls",
            "_model_module_version": "1.5.0",
            "_model_name": "DescriptionStyleModel",
            "_view_count": null,
            "_view_module": "@jupyter-widgets/base",
            "_view_module_version": "1.2.0",
            "_view_name": "StyleView",
            "description_width": ""
          }
        },
        "22326c0efdce440b83799a5d2b1b46c7": {
          "model_module": "@jupyter-widgets/controls",
          "model_name": "HBoxModel",
          "model_module_version": "1.5.0",
          "state": {
            "_dom_classes": [],
            "_model_module": "@jupyter-widgets/controls",
            "_model_module_version": "1.5.0",
            "_model_name": "HBoxModel",
            "_view_count": null,
            "_view_module": "@jupyter-widgets/controls",
            "_view_module_version": "1.5.0",
            "_view_name": "HBoxView",
            "box_style": "",
            "children": [
              "IPY_MODEL_f5d64a6f3df84cd18e10d321692f707c",
              "IPY_MODEL_ecda947cc2944c05ac9abb540dcad555",
              "IPY_MODEL_0cb647729469494a96f5fec8e122ca98"
            ],
            "layout": "IPY_MODEL_eb2cc296d6e7404caa548c36e7733406"
          }
        },
        "f5d64a6f3df84cd18e10d321692f707c": {
          "model_module": "@jupyter-widgets/controls",
          "model_name": "HTMLModel",
          "model_module_version": "1.5.0",
          "state": {
            "_dom_classes": [],
            "_model_module": "@jupyter-widgets/controls",
            "_model_module_version": "1.5.0",
            "_model_name": "HTMLModel",
            "_view_count": null,
            "_view_module": "@jupyter-widgets/controls",
            "_view_module_version": "1.5.0",
            "_view_name": "HTMLView",
            "description": "",
            "description_tooltip": null,
            "layout": "IPY_MODEL_0d17247425d34cfa9c0bbe359f1ff78c",
            "placeholder": "​",
            "style": "IPY_MODEL_2596bacad3244ad8a6ff71910f9122c4",
            "value": "Downloading (…)/main/tokenizer.json: 100%"
          }
        },
        "ecda947cc2944c05ac9abb540dcad555": {
          "model_module": "@jupyter-widgets/controls",
          "model_name": "FloatProgressModel",
          "model_module_version": "1.5.0",
          "state": {
            "_dom_classes": [],
            "_model_module": "@jupyter-widgets/controls",
            "_model_module_version": "1.5.0",
            "_model_name": "FloatProgressModel",
            "_view_count": null,
            "_view_module": "@jupyter-widgets/controls",
            "_view_module_version": "1.5.0",
            "_view_name": "ProgressView",
            "bar_style": "success",
            "description": "",
            "description_tooltip": null,
            "layout": "IPY_MODEL_ea2a4c4768384bd6ab5cf7b3daff1a31",
            "max": 466062,
            "min": 0,
            "orientation": "horizontal",
            "style": "IPY_MODEL_f085a49552464450b6a69e20e2313613",
            "value": 466062
          }
        },
        "0cb647729469494a96f5fec8e122ca98": {
          "model_module": "@jupyter-widgets/controls",
          "model_name": "HTMLModel",
          "model_module_version": "1.5.0",
          "state": {
            "_dom_classes": [],
            "_model_module": "@jupyter-widgets/controls",
            "_model_module_version": "1.5.0",
            "_model_name": "HTMLModel",
            "_view_count": null,
            "_view_module": "@jupyter-widgets/controls",
            "_view_module_version": "1.5.0",
            "_view_name": "HTMLView",
            "description": "",
            "description_tooltip": null,
            "layout": "IPY_MODEL_03507b1129d54040a627f1768d27c1b5",
            "placeholder": "​",
            "style": "IPY_MODEL_6dfb6014eb324263b65b8b222cd26518",
            "value": " 466k/466k [00:00&lt;00:00, 33.7MB/s]"
          }
        },
        "eb2cc296d6e7404caa548c36e7733406": {
          "model_module": "@jupyter-widgets/base",
          "model_name": "LayoutModel",
          "model_module_version": "1.2.0",
          "state": {
            "_model_module": "@jupyter-widgets/base",
            "_model_module_version": "1.2.0",
            "_model_name": "LayoutModel",
            "_view_count": null,
            "_view_module": "@jupyter-widgets/base",
            "_view_module_version": "1.2.0",
            "_view_name": "LayoutView",
            "align_content": null,
            "align_items": null,
            "align_self": null,
            "border": null,
            "bottom": null,
            "display": null,
            "flex": null,
            "flex_flow": null,
            "grid_area": null,
            "grid_auto_columns": null,
            "grid_auto_flow": null,
            "grid_auto_rows": null,
            "grid_column": null,
            "grid_gap": null,
            "grid_row": null,
            "grid_template_areas": null,
            "grid_template_columns": null,
            "grid_template_rows": null,
            "height": null,
            "justify_content": null,
            "justify_items": null,
            "left": null,
            "margin": null,
            "max_height": null,
            "max_width": null,
            "min_height": null,
            "min_width": null,
            "object_fit": null,
            "object_position": null,
            "order": null,
            "overflow": null,
            "overflow_x": null,
            "overflow_y": null,
            "padding": null,
            "right": null,
            "top": null,
            "visibility": null,
            "width": null
          }
        },
        "0d17247425d34cfa9c0bbe359f1ff78c": {
          "model_module": "@jupyter-widgets/base",
          "model_name": "LayoutModel",
          "model_module_version": "1.2.0",
          "state": {
            "_model_module": "@jupyter-widgets/base",
            "_model_module_version": "1.2.0",
            "_model_name": "LayoutModel",
            "_view_count": null,
            "_view_module": "@jupyter-widgets/base",
            "_view_module_version": "1.2.0",
            "_view_name": "LayoutView",
            "align_content": null,
            "align_items": null,
            "align_self": null,
            "border": null,
            "bottom": null,
            "display": null,
            "flex": null,
            "flex_flow": null,
            "grid_area": null,
            "grid_auto_columns": null,
            "grid_auto_flow": null,
            "grid_auto_rows": null,
            "grid_column": null,
            "grid_gap": null,
            "grid_row": null,
            "grid_template_areas": null,
            "grid_template_columns": null,
            "grid_template_rows": null,
            "height": null,
            "justify_content": null,
            "justify_items": null,
            "left": null,
            "margin": null,
            "max_height": null,
            "max_width": null,
            "min_height": null,
            "min_width": null,
            "object_fit": null,
            "object_position": null,
            "order": null,
            "overflow": null,
            "overflow_x": null,
            "overflow_y": null,
            "padding": null,
            "right": null,
            "top": null,
            "visibility": null,
            "width": null
          }
        },
        "2596bacad3244ad8a6ff71910f9122c4": {
          "model_module": "@jupyter-widgets/controls",
          "model_name": "DescriptionStyleModel",
          "model_module_version": "1.5.0",
          "state": {
            "_model_module": "@jupyter-widgets/controls",
            "_model_module_version": "1.5.0",
            "_model_name": "DescriptionStyleModel",
            "_view_count": null,
            "_view_module": "@jupyter-widgets/base",
            "_view_module_version": "1.2.0",
            "_view_name": "StyleView",
            "description_width": ""
          }
        },
        "ea2a4c4768384bd6ab5cf7b3daff1a31": {
          "model_module": "@jupyter-widgets/base",
          "model_name": "LayoutModel",
          "model_module_version": "1.2.0",
          "state": {
            "_model_module": "@jupyter-widgets/base",
            "_model_module_version": "1.2.0",
            "_model_name": "LayoutModel",
            "_view_count": null,
            "_view_module": "@jupyter-widgets/base",
            "_view_module_version": "1.2.0",
            "_view_name": "LayoutView",
            "align_content": null,
            "align_items": null,
            "align_self": null,
            "border": null,
            "bottom": null,
            "display": null,
            "flex": null,
            "flex_flow": null,
            "grid_area": null,
            "grid_auto_columns": null,
            "grid_auto_flow": null,
            "grid_auto_rows": null,
            "grid_column": null,
            "grid_gap": null,
            "grid_row": null,
            "grid_template_areas": null,
            "grid_template_columns": null,
            "grid_template_rows": null,
            "height": null,
            "justify_content": null,
            "justify_items": null,
            "left": null,
            "margin": null,
            "max_height": null,
            "max_width": null,
            "min_height": null,
            "min_width": null,
            "object_fit": null,
            "object_position": null,
            "order": null,
            "overflow": null,
            "overflow_x": null,
            "overflow_y": null,
            "padding": null,
            "right": null,
            "top": null,
            "visibility": null,
            "width": null
          }
        },
        "f085a49552464450b6a69e20e2313613": {
          "model_module": "@jupyter-widgets/controls",
          "model_name": "ProgressStyleModel",
          "model_module_version": "1.5.0",
          "state": {
            "_model_module": "@jupyter-widgets/controls",
            "_model_module_version": "1.5.0",
            "_model_name": "ProgressStyleModel",
            "_view_count": null,
            "_view_module": "@jupyter-widgets/base",
            "_view_module_version": "1.2.0",
            "_view_name": "StyleView",
            "bar_color": null,
            "description_width": ""
          }
        },
        "03507b1129d54040a627f1768d27c1b5": {
          "model_module": "@jupyter-widgets/base",
          "model_name": "LayoutModel",
          "model_module_version": "1.2.0",
          "state": {
            "_model_module": "@jupyter-widgets/base",
            "_model_module_version": "1.2.0",
            "_model_name": "LayoutModel",
            "_view_count": null,
            "_view_module": "@jupyter-widgets/base",
            "_view_module_version": "1.2.0",
            "_view_name": "LayoutView",
            "align_content": null,
            "align_items": null,
            "align_self": null,
            "border": null,
            "bottom": null,
            "display": null,
            "flex": null,
            "flex_flow": null,
            "grid_area": null,
            "grid_auto_columns": null,
            "grid_auto_flow": null,
            "grid_auto_rows": null,
            "grid_column": null,
            "grid_gap": null,
            "grid_row": null,
            "grid_template_areas": null,
            "grid_template_columns": null,
            "grid_template_rows": null,
            "height": null,
            "justify_content": null,
            "justify_items": null,
            "left": null,
            "margin": null,
            "max_height": null,
            "max_width": null,
            "min_height": null,
            "min_width": null,
            "object_fit": null,
            "object_position": null,
            "order": null,
            "overflow": null,
            "overflow_x": null,
            "overflow_y": null,
            "padding": null,
            "right": null,
            "top": null,
            "visibility": null,
            "width": null
          }
        },
        "6dfb6014eb324263b65b8b222cd26518": {
          "model_module": "@jupyter-widgets/controls",
          "model_name": "DescriptionStyleModel",
          "model_module_version": "1.5.0",
          "state": {
            "_model_module": "@jupyter-widgets/controls",
            "_model_module_version": "1.5.0",
            "_model_name": "DescriptionStyleModel",
            "_view_count": null,
            "_view_module": "@jupyter-widgets/base",
            "_view_module_version": "1.2.0",
            "_view_name": "StyleView",
            "description_width": ""
          }
        },
        "934496f33fc44cf0b6a3f6662b7e62b9": {
          "model_module": "@jupyter-widgets/controls",
          "model_name": "HBoxModel",
          "model_module_version": "1.5.0",
          "state": {
            "_dom_classes": [],
            "_model_module": "@jupyter-widgets/controls",
            "_model_module_version": "1.5.0",
            "_model_name": "HBoxModel",
            "_view_count": null,
            "_view_module": "@jupyter-widgets/controls",
            "_view_module_version": "1.5.0",
            "_view_name": "HBoxView",
            "box_style": "",
            "children": [
              "IPY_MODEL_1b7dee9076f44cd4bcbacb004a80ed4a",
              "IPY_MODEL_51a75dfc195a4a2bb99b1679b9366156",
              "IPY_MODEL_032673a5a34e46a6b606c9bffabc34d8"
            ],
            "layout": "IPY_MODEL_a805fddaa70a44cd9b5e8d8d3b5414b5"
          }
        },
        "1b7dee9076f44cd4bcbacb004a80ed4a": {
          "model_module": "@jupyter-widgets/controls",
          "model_name": "HTMLModel",
          "model_module_version": "1.5.0",
          "state": {
            "_dom_classes": [],
            "_model_module": "@jupyter-widgets/controls",
            "_model_module_version": "1.5.0",
            "_model_name": "HTMLModel",
            "_view_count": null,
            "_view_module": "@jupyter-widgets/controls",
            "_view_module_version": "1.5.0",
            "_view_name": "HTMLView",
            "description": "",
            "description_tooltip": null,
            "layout": "IPY_MODEL_0f8a7573a8584a09a426eb20e6f5c999",
            "placeholder": "​",
            "style": "IPY_MODEL_542f7a96ee9643a1a4b2e199c74ca83b",
            "value": "Downloading model.safetensors: 100%"
          }
        },
        "51a75dfc195a4a2bb99b1679b9366156": {
          "model_module": "@jupyter-widgets/controls",
          "model_name": "FloatProgressModel",
          "model_module_version": "1.5.0",
          "state": {
            "_dom_classes": [],
            "_model_module": "@jupyter-widgets/controls",
            "_model_module_version": "1.5.0",
            "_model_name": "FloatProgressModel",
            "_view_count": null,
            "_view_module": "@jupyter-widgets/controls",
            "_view_module_version": "1.5.0",
            "_view_name": "ProgressView",
            "bar_style": "success",
            "description": "",
            "description_tooltip": null,
            "layout": "IPY_MODEL_e4a25ffb5ec14355997a00c4cb702050",
            "max": 440449768,
            "min": 0,
            "orientation": "horizontal",
            "style": "IPY_MODEL_588f4454f4514a0a8b0a8af73674d4f3",
            "value": 440449768
          }
        },
        "032673a5a34e46a6b606c9bffabc34d8": {
          "model_module": "@jupyter-widgets/controls",
          "model_name": "HTMLModel",
          "model_module_version": "1.5.0",
          "state": {
            "_dom_classes": [],
            "_model_module": "@jupyter-widgets/controls",
            "_model_module_version": "1.5.0",
            "_model_name": "HTMLModel",
            "_view_count": null,
            "_view_module": "@jupyter-widgets/controls",
            "_view_module_version": "1.5.0",
            "_view_name": "HTMLView",
            "description": "",
            "description_tooltip": null,
            "layout": "IPY_MODEL_2c6e4082d51249e1b7879780f01c08c0",
            "placeholder": "​",
            "style": "IPY_MODEL_d68e858d09b54738925aff8af4569248",
            "value": " 440M/440M [00:00&lt;00:00, 486MB/s]"
          }
        },
        "a805fddaa70a44cd9b5e8d8d3b5414b5": {
          "model_module": "@jupyter-widgets/base",
          "model_name": "LayoutModel",
          "model_module_version": "1.2.0",
          "state": {
            "_model_module": "@jupyter-widgets/base",
            "_model_module_version": "1.2.0",
            "_model_name": "LayoutModel",
            "_view_count": null,
            "_view_module": "@jupyter-widgets/base",
            "_view_module_version": "1.2.0",
            "_view_name": "LayoutView",
            "align_content": null,
            "align_items": null,
            "align_self": null,
            "border": null,
            "bottom": null,
            "display": null,
            "flex": null,
            "flex_flow": null,
            "grid_area": null,
            "grid_auto_columns": null,
            "grid_auto_flow": null,
            "grid_auto_rows": null,
            "grid_column": null,
            "grid_gap": null,
            "grid_row": null,
            "grid_template_areas": null,
            "grid_template_columns": null,
            "grid_template_rows": null,
            "height": null,
            "justify_content": null,
            "justify_items": null,
            "left": null,
            "margin": null,
            "max_height": null,
            "max_width": null,
            "min_height": null,
            "min_width": null,
            "object_fit": null,
            "object_position": null,
            "order": null,
            "overflow": null,
            "overflow_x": null,
            "overflow_y": null,
            "padding": null,
            "right": null,
            "top": null,
            "visibility": null,
            "width": null
          }
        },
        "0f8a7573a8584a09a426eb20e6f5c999": {
          "model_module": "@jupyter-widgets/base",
          "model_name": "LayoutModel",
          "model_module_version": "1.2.0",
          "state": {
            "_model_module": "@jupyter-widgets/base",
            "_model_module_version": "1.2.0",
            "_model_name": "LayoutModel",
            "_view_count": null,
            "_view_module": "@jupyter-widgets/base",
            "_view_module_version": "1.2.0",
            "_view_name": "LayoutView",
            "align_content": null,
            "align_items": null,
            "align_self": null,
            "border": null,
            "bottom": null,
            "display": null,
            "flex": null,
            "flex_flow": null,
            "grid_area": null,
            "grid_auto_columns": null,
            "grid_auto_flow": null,
            "grid_auto_rows": null,
            "grid_column": null,
            "grid_gap": null,
            "grid_row": null,
            "grid_template_areas": null,
            "grid_template_columns": null,
            "grid_template_rows": null,
            "height": null,
            "justify_content": null,
            "justify_items": null,
            "left": null,
            "margin": null,
            "max_height": null,
            "max_width": null,
            "min_height": null,
            "min_width": null,
            "object_fit": null,
            "object_position": null,
            "order": null,
            "overflow": null,
            "overflow_x": null,
            "overflow_y": null,
            "padding": null,
            "right": null,
            "top": null,
            "visibility": null,
            "width": null
          }
        },
        "542f7a96ee9643a1a4b2e199c74ca83b": {
          "model_module": "@jupyter-widgets/controls",
          "model_name": "DescriptionStyleModel",
          "model_module_version": "1.5.0",
          "state": {
            "_model_module": "@jupyter-widgets/controls",
            "_model_module_version": "1.5.0",
            "_model_name": "DescriptionStyleModel",
            "_view_count": null,
            "_view_module": "@jupyter-widgets/base",
            "_view_module_version": "1.2.0",
            "_view_name": "StyleView",
            "description_width": ""
          }
        },
        "e4a25ffb5ec14355997a00c4cb702050": {
          "model_module": "@jupyter-widgets/base",
          "model_name": "LayoutModel",
          "model_module_version": "1.2.0",
          "state": {
            "_model_module": "@jupyter-widgets/base",
            "_model_module_version": "1.2.0",
            "_model_name": "LayoutModel",
            "_view_count": null,
            "_view_module": "@jupyter-widgets/base",
            "_view_module_version": "1.2.0",
            "_view_name": "LayoutView",
            "align_content": null,
            "align_items": null,
            "align_self": null,
            "border": null,
            "bottom": null,
            "display": null,
            "flex": null,
            "flex_flow": null,
            "grid_area": null,
            "grid_auto_columns": null,
            "grid_auto_flow": null,
            "grid_auto_rows": null,
            "grid_column": null,
            "grid_gap": null,
            "grid_row": null,
            "grid_template_areas": null,
            "grid_template_columns": null,
            "grid_template_rows": null,
            "height": null,
            "justify_content": null,
            "justify_items": null,
            "left": null,
            "margin": null,
            "max_height": null,
            "max_width": null,
            "min_height": null,
            "min_width": null,
            "object_fit": null,
            "object_position": null,
            "order": null,
            "overflow": null,
            "overflow_x": null,
            "overflow_y": null,
            "padding": null,
            "right": null,
            "top": null,
            "visibility": null,
            "width": null
          }
        },
        "588f4454f4514a0a8b0a8af73674d4f3": {
          "model_module": "@jupyter-widgets/controls",
          "model_name": "ProgressStyleModel",
          "model_module_version": "1.5.0",
          "state": {
            "_model_module": "@jupyter-widgets/controls",
            "_model_module_version": "1.5.0",
            "_model_name": "ProgressStyleModel",
            "_view_count": null,
            "_view_module": "@jupyter-widgets/base",
            "_view_module_version": "1.2.0",
            "_view_name": "StyleView",
            "bar_color": null,
            "description_width": ""
          }
        },
        "2c6e4082d51249e1b7879780f01c08c0": {
          "model_module": "@jupyter-widgets/base",
          "model_name": "LayoutModel",
          "model_module_version": "1.2.0",
          "state": {
            "_model_module": "@jupyter-widgets/base",
            "_model_module_version": "1.2.0",
            "_model_name": "LayoutModel",
            "_view_count": null,
            "_view_module": "@jupyter-widgets/base",
            "_view_module_version": "1.2.0",
            "_view_name": "LayoutView",
            "align_content": null,
            "align_items": null,
            "align_self": null,
            "border": null,
            "bottom": null,
            "display": null,
            "flex": null,
            "flex_flow": null,
            "grid_area": null,
            "grid_auto_columns": null,
            "grid_auto_flow": null,
            "grid_auto_rows": null,
            "grid_column": null,
            "grid_gap": null,
            "grid_row": null,
            "grid_template_areas": null,
            "grid_template_columns": null,
            "grid_template_rows": null,
            "height": null,
            "justify_content": null,
            "justify_items": null,
            "left": null,
            "margin": null,
            "max_height": null,
            "max_width": null,
            "min_height": null,
            "min_width": null,
            "object_fit": null,
            "object_position": null,
            "order": null,
            "overflow": null,
            "overflow_x": null,
            "overflow_y": null,
            "padding": null,
            "right": null,
            "top": null,
            "visibility": null,
            "width": null
          }
        },
        "d68e858d09b54738925aff8af4569248": {
          "model_module": "@jupyter-widgets/controls",
          "model_name": "DescriptionStyleModel",
          "model_module_version": "1.5.0",
          "state": {
            "_model_module": "@jupyter-widgets/controls",
            "_model_module_version": "1.5.0",
            "_model_name": "DescriptionStyleModel",
            "_view_count": null,
            "_view_module": "@jupyter-widgets/base",
            "_view_module_version": "1.2.0",
            "_view_name": "StyleView",
            "description_width": ""
          }
        }
      }
    }
  },
  "nbformat": 4,
  "nbformat_minor": 0
}